{
 "cells": [
  {
   "cell_type": "markdown",
   "metadata": {},
   "source": [
    "## Import pacakages"
   ]
  },
  {
   "cell_type": "code",
   "execution_count": 1,
   "metadata": {},
   "outputs": [],
   "source": [
    "library(naivebayes)"
   ]
  },
  {
   "cell_type": "markdown",
   "metadata": {},
   "source": [
    "## Import location data\n",
    "These are iphone location data for different location and timing"
   ]
  },
  {
   "cell_type": "code",
   "execution_count": 2,
   "metadata": {},
   "outputs": [
    {
     "data": {
      "text/html": [
       "<table>\n",
       "<thead><tr><th scope=col>month</th><th scope=col>day</th><th scope=col>weekday</th><th scope=col>daytype</th><th scope=col>hour</th><th scope=col>hourtype</th><th scope=col>location</th></tr></thead>\n",
       "<tbody>\n",
       "\t<tr><td>1        </td><td>4        </td><td>wednesday</td><td>weekday  </td><td>0        </td><td>night    </td><td>home     </td></tr>\n",
       "\t<tr><td>1        </td><td>4        </td><td>wednesday</td><td>weekday  </td><td>1        </td><td>night    </td><td>home     </td></tr>\n",
       "\t<tr><td>1        </td><td>4        </td><td>wednesday</td><td>weekday  </td><td>2        </td><td>night    </td><td>home     </td></tr>\n",
       "\t<tr><td>1        </td><td>4        </td><td>wednesday</td><td>weekday  </td><td>3        </td><td>night    </td><td>home     </td></tr>\n",
       "\t<tr><td>1        </td><td>4        </td><td>wednesday</td><td>weekday  </td><td>4        </td><td>night    </td><td>home     </td></tr>\n",
       "\t<tr><td>1        </td><td>4        </td><td>wednesday</td><td>weekday  </td><td>5        </td><td>night    </td><td>home     </td></tr>\n",
       "</tbody>\n",
       "</table>\n"
      ],
      "text/latex": [
       "\\begin{tabular}{r|lllllll}\n",
       " month & day & weekday & daytype & hour & hourtype & location\\\\\n",
       "\\hline\n",
       "\t 1         & 4         & wednesday & weekday   & 0         & night     & home     \\\\\n",
       "\t 1         & 4         & wednesday & weekday   & 1         & night     & home     \\\\\n",
       "\t 1         & 4         & wednesday & weekday   & 2         & night     & home     \\\\\n",
       "\t 1         & 4         & wednesday & weekday   & 3         & night     & home     \\\\\n",
       "\t 1         & 4         & wednesday & weekday   & 4         & night     & home     \\\\\n",
       "\t 1         & 4         & wednesday & weekday   & 5         & night     & home     \\\\\n",
       "\\end{tabular}\n"
      ],
      "text/markdown": [
       "\n",
       "month | day | weekday | daytype | hour | hourtype | location | \n",
       "|---|---|---|---|---|---|\n",
       "| 1         | 4         | wednesday | weekday   | 0         | night     | home      | \n",
       "| 1         | 4         | wednesday | weekday   | 1         | night     | home      | \n",
       "| 1         | 4         | wednesday | weekday   | 2         | night     | home      | \n",
       "| 1         | 4         | wednesday | weekday   | 3         | night     | home      | \n",
       "| 1         | 4         | wednesday | weekday   | 4         | night     | home      | \n",
       "| 1         | 4         | wednesday | weekday   | 5         | night     | home      | \n",
       "\n",
       "\n"
      ],
      "text/plain": [
       "  month day weekday   daytype hour hourtype location\n",
       "1 1     4   wednesday weekday 0    night    home    \n",
       "2 1     4   wednesday weekday 1    night    home    \n",
       "3 1     4   wednesday weekday 2    night    home    \n",
       "4 1     4   wednesday weekday 3    night    home    \n",
       "5 1     4   wednesday weekday 4    night    home    \n",
       "6 1     4   wednesday weekday 5    night    home    "
      ]
     },
     "metadata": {},
     "output_type": "display_data"
    },
    {
     "name": "stdout",
     "output_type": "stream",
     "text": [
      "'data.frame':\t2184 obs. of  7 variables:\n",
      " $ month   : int  1 1 1 1 1 1 1 1 1 1 ...\n",
      " $ day     : int  4 4 4 4 4 4 4 4 4 4 ...\n",
      " $ weekday : Factor w/ 7 levels \"friday\",\"monday\",..: 7 7 7 7 7 7 7 7 7 7 ...\n",
      " $ daytype : Factor w/ 2 levels \"weekday\",\"weekend\": 1 1 1 1 1 1 1 1 1 1 ...\n",
      " $ hour    : int  0 1 2 3 4 5 6 7 8 9 ...\n",
      " $ hourtype: Factor w/ 4 levels \"afternoon\",\"evening\",..: 4 4 4 4 4 4 3 3 3 3 ...\n",
      " $ location: Factor w/ 7 levels \"appointment\",..: 3 3 3 3 3 3 3 3 3 4 ...\n"
     ]
    }
   ],
   "source": [
    "data = read.csv(\"data/locations.csv\")\n",
    "head(data)\n",
    "str(data)"
   ]
  },
  {
   "cell_type": "code",
   "execution_count": 3,
   "metadata": {},
   "outputs": [
    {
     "name": "stdout",
     "output_type": "stream",
     "text": [
      "[1] \"Column 'weekday':\"\n"
     ]
    },
    {
     "data": {
      "text/html": [
       "<ol class=list-inline>\n",
       "\t<li>wednesday</li>\n",
       "\t<li>thursday</li>\n",
       "\t<li>friday</li>\n",
       "\t<li>saturday</li>\n",
       "\t<li>sunday</li>\n",
       "\t<li>monday</li>\n",
       "\t<li>tuesday</li>\n",
       "</ol>\n"
      ],
      "text/latex": [
       "\\begin{enumerate*}\n",
       "\\item wednesday\n",
       "\\item thursday\n",
       "\\item friday\n",
       "\\item saturday\n",
       "\\item sunday\n",
       "\\item monday\n",
       "\\item tuesday\n",
       "\\end{enumerate*}\n"
      ],
      "text/markdown": [
       "1. wednesday\n",
       "2. thursday\n",
       "3. friday\n",
       "4. saturday\n",
       "5. sunday\n",
       "6. monday\n",
       "7. tuesday\n",
       "\n",
       "\n"
      ],
      "text/plain": [
       "[1] wednesday thursday  friday    saturday  sunday    monday    tuesday  \n",
       "Levels: friday monday saturday sunday thursday tuesday wednesday"
      ]
     },
     "metadata": {},
     "output_type": "display_data"
    },
    {
     "name": "stdout",
     "output_type": "stream",
     "text": [
      "[1] \"Column 'daytype':\"\n"
     ]
    },
    {
     "data": {
      "text/html": [
       "<ol class=list-inline>\n",
       "\t<li>weekday</li>\n",
       "\t<li>weekend</li>\n",
       "</ol>\n"
      ],
      "text/latex": [
       "\\begin{enumerate*}\n",
       "\\item weekday\n",
       "\\item weekend\n",
       "\\end{enumerate*}\n"
      ],
      "text/markdown": [
       "1. weekday\n",
       "2. weekend\n",
       "\n",
       "\n"
      ],
      "text/plain": [
       "[1] weekday weekend\n",
       "Levels: weekday weekend"
      ]
     },
     "metadata": {},
     "output_type": "display_data"
    },
    {
     "name": "stdout",
     "output_type": "stream",
     "text": [
      "[1] \"Column 'hourtype':\"\n"
     ]
    },
    {
     "data": {
      "text/html": [
       "<ol class=list-inline>\n",
       "\t<li>night</li>\n",
       "\t<li>morning</li>\n",
       "\t<li>afternoon</li>\n",
       "\t<li>evening</li>\n",
       "</ol>\n"
      ],
      "text/latex": [
       "\\begin{enumerate*}\n",
       "\\item night\n",
       "\\item morning\n",
       "\\item afternoon\n",
       "\\item evening\n",
       "\\end{enumerate*}\n"
      ],
      "text/markdown": [
       "1. night\n",
       "2. morning\n",
       "3. afternoon\n",
       "4. evening\n",
       "\n",
       "\n"
      ],
      "text/plain": [
       "[1] night     morning   afternoon evening  \n",
       "Levels: afternoon evening morning night"
      ]
     },
     "metadata": {},
     "output_type": "display_data"
    },
    {
     "name": "stdout",
     "output_type": "stream",
     "text": [
      "[1] \"Column 'location':\"\n"
     ]
    },
    {
     "data": {
      "text/html": [
       "<ol class=list-inline>\n",
       "\t<li>home</li>\n",
       "\t<li>office</li>\n",
       "\t<li>restaurant</li>\n",
       "\t<li>campus</li>\n",
       "\t<li>store</li>\n",
       "\t<li>appointment</li>\n",
       "\t<li>theater</li>\n",
       "</ol>\n"
      ],
      "text/latex": [
       "\\begin{enumerate*}\n",
       "\\item home\n",
       "\\item office\n",
       "\\item restaurant\n",
       "\\item campus\n",
       "\\item store\n",
       "\\item appointment\n",
       "\\item theater\n",
       "\\end{enumerate*}\n"
      ],
      "text/markdown": [
       "1. home\n",
       "2. office\n",
       "3. restaurant\n",
       "4. campus\n",
       "5. store\n",
       "6. appointment\n",
       "7. theater\n",
       "\n",
       "\n"
      ],
      "text/plain": [
       "[1] home        office      restaurant  campus      store       appointment\n",
       "[7] theater    \n",
       "Levels: appointment campus home office restaurant store theater"
      ]
     },
     "metadata": {},
     "output_type": "display_data"
    }
   ],
   "source": [
    "# Check categorical values for factors\n",
    "print(\"Column 'weekday':\")\n",
    "unique(data$weekday)\n",
    "print(\"Column 'daytype':\")\n",
    "unique(data$daytype)\n",
    "print(\"Column 'hourtype':\")\n",
    "unique(data$hourtype)\n",
    "print(\"Column 'location':\")\n",
    "unique(data$location)"
   ]
  },
  {
   "cell_type": "markdown",
   "metadata": {},
   "source": [
    "## Create naive bayes classifier with laplace correction\n",
    "Laplace smoothing can avoid potential outcomes that is ignored (not captured in observation)"
   ]
  },
  {
   "cell_type": "code",
   "execution_count": 4,
   "metadata": {},
   "outputs": [
    {
     "data": {
      "text/plain": [
       "===================== Naive Bayes ===================== \n",
       "Call: \n",
       "naive_bayes.formula(formula = location ~ weekday + hourtype, \n",
       "    data = data, laplace = 1)\n",
       "\n",
       "A priori probabilities: \n",
       "\n",
       "appointment      campus        home      office  restaurant       store \n",
       "0.003663004 0.032967033 0.717948718 0.187728938 0.037087912 0.017857143 \n",
       "    theater \n",
       "0.002747253 \n",
       "\n",
       "Tables: \n",
       "           \n",
       "weekday     appointment      campus        home      office  restaurant\n",
       "  friday    0.133333333 0.189873418 0.121269841 0.182254197 0.238636364\n",
       "  monday    0.133333333 0.189873418 0.126984127 0.206235012 0.113636364\n",
       "  saturday  0.333333333 0.012658228 0.182222222 0.002398082 0.102272727\n",
       "  sunday    0.066666667 0.012658228 0.189841270 0.002398082 0.113636364\n",
       "  thursday  0.066666667 0.253164557 0.122539683 0.208633094 0.136363636\n",
       "  tuesday   0.066666667 0.037974684 0.129523810 0.223021583 0.136363636\n",
       "  wednesday 0.200000000 0.303797468 0.127619048 0.175059952 0.159090909\n",
       "           \n",
       "weekday           store     theater\n",
       "  friday    0.282608696 0.076923077\n",
       "  monday    0.108695652 0.076923077\n",
       "  saturday  0.195652174 0.538461538\n",
       "  sunday    0.130434783 0.076923077\n",
       "  thursday  0.108695652 0.076923077\n",
       "  tuesday   0.108695652 0.076923077\n",
       "  wednesday 0.065217391 0.076923077\n",
       "\n",
       "           \n",
       "hourtype    appointment      campus        home      office  restaurant\n",
       "  afternoon 0.333333333 0.506329114 0.117460317 0.654676259 0.500000000\n",
       "  evening   0.200000000 0.025316456 0.187301587 0.035971223 0.159090909\n",
       "  morning   0.200000000 0.417721519 0.231746032 0.299760192 0.284090909\n",
       "  night     0.066666667 0.012658228 0.461587302 0.002398082 0.022727273\n",
       "           \n",
       "hourtype          store     theater\n",
       "  afternoon 0.108695652 0.076923077\n",
       "  evening   0.760869565 0.538461538\n",
       "  morning   0.021739130 0.076923077\n",
       "  night     0.043478261 0.076923077\n"
      ]
     },
     "metadata": {},
     "output_type": "display_data"
    }
   ],
   "source": [
    "# Show priori probablities + tables\n",
    "locmodel = naive_bayes(location ~ weekday + hourtype, data=data, laplace=1)\n",
    "locmodel"
   ]
  },
  {
   "cell_type": "markdown",
   "metadata": {},
   "source": [
    "## Create Test Data\n",
    "A dataframe with all the combination of (weekday, hourtype)"
   ]
  },
  {
   "cell_type": "code",
   "execution_count": 5,
   "metadata": {},
   "outputs": [
    {
     "data": {
      "text/html": [
       "<table>\n",
       "<thead><tr><th scope=col>weekday</th><th scope=col>hourtype</th></tr></thead>\n",
       "<tbody>\n",
       "\t<tr><td>monday   </td><td>morning  </td></tr>\n",
       "\t<tr><td>monday   </td><td>afternoon</td></tr>\n",
       "\t<tr><td>monday   </td><td>evening  </td></tr>\n",
       "\t<tr><td>monday   </td><td>night    </td></tr>\n",
       "\t<tr><td>tuesday  </td><td>morning  </td></tr>\n",
       "\t<tr><td>tuesday  </td><td>afternoon</td></tr>\n",
       "\t<tr><td>tuesday  </td><td>evening  </td></tr>\n",
       "\t<tr><td>tuesday  </td><td>night    </td></tr>\n",
       "\t<tr><td>wednesday</td><td>morning  </td></tr>\n",
       "\t<tr><td>wednesday</td><td>afternoon</td></tr>\n",
       "\t<tr><td>wednesday</td><td>evening  </td></tr>\n",
       "\t<tr><td>wednesday</td><td>night    </td></tr>\n",
       "\t<tr><td>thursday </td><td>morning  </td></tr>\n",
       "\t<tr><td>thursday </td><td>afternoon</td></tr>\n",
       "\t<tr><td>thursday </td><td>evening  </td></tr>\n",
       "\t<tr><td>thursday </td><td>night    </td></tr>\n",
       "\t<tr><td>friday   </td><td>morning  </td></tr>\n",
       "\t<tr><td>friday   </td><td>afternoon</td></tr>\n",
       "\t<tr><td>friday   </td><td>evening  </td></tr>\n",
       "\t<tr><td>friday   </td><td>night    </td></tr>\n",
       "\t<tr><td>saturday </td><td>morning  </td></tr>\n",
       "\t<tr><td>saturday </td><td>afternoon</td></tr>\n",
       "\t<tr><td>saturday </td><td>evening  </td></tr>\n",
       "\t<tr><td>saturday </td><td>night    </td></tr>\n",
       "\t<tr><td>sunday   </td><td>morning  </td></tr>\n",
       "\t<tr><td>sunday   </td><td>afternoon</td></tr>\n",
       "\t<tr><td>sunday   </td><td>evening  </td></tr>\n",
       "\t<tr><td>sunday   </td><td>night    </td></tr>\n",
       "</tbody>\n",
       "</table>\n"
      ],
      "text/latex": [
       "\\begin{tabular}{r|ll}\n",
       " weekday & hourtype\\\\\n",
       "\\hline\n",
       "\t monday    & morning  \\\\\n",
       "\t monday    & afternoon\\\\\n",
       "\t monday    & evening  \\\\\n",
       "\t monday    & night    \\\\\n",
       "\t tuesday   & morning  \\\\\n",
       "\t tuesday   & afternoon\\\\\n",
       "\t tuesday   & evening  \\\\\n",
       "\t tuesday   & night    \\\\\n",
       "\t wednesday & morning  \\\\\n",
       "\t wednesday & afternoon\\\\\n",
       "\t wednesday & evening  \\\\\n",
       "\t wednesday & night    \\\\\n",
       "\t thursday  & morning  \\\\\n",
       "\t thursday  & afternoon\\\\\n",
       "\t thursday  & evening  \\\\\n",
       "\t thursday  & night    \\\\\n",
       "\t friday    & morning  \\\\\n",
       "\t friday    & afternoon\\\\\n",
       "\t friday    & evening  \\\\\n",
       "\t friday    & night    \\\\\n",
       "\t saturday  & morning  \\\\\n",
       "\t saturday  & afternoon\\\\\n",
       "\t saturday  & evening  \\\\\n",
       "\t saturday  & night    \\\\\n",
       "\t sunday    & morning  \\\\\n",
       "\t sunday    & afternoon\\\\\n",
       "\t sunday    & evening  \\\\\n",
       "\t sunday    & night    \\\\\n",
       "\\end{tabular}\n"
      ],
      "text/markdown": [
       "\n",
       "weekday | hourtype | \n",
       "|---|---|---|---|---|---|---|---|---|---|---|---|---|---|---|---|---|---|---|---|---|---|---|---|---|---|---|---|\n",
       "| monday    | morning   | \n",
       "| monday    | afternoon | \n",
       "| monday    | evening   | \n",
       "| monday    | night     | \n",
       "| tuesday   | morning   | \n",
       "| tuesday   | afternoon | \n",
       "| tuesday   | evening   | \n",
       "| tuesday   | night     | \n",
       "| wednesday | morning   | \n",
       "| wednesday | afternoon | \n",
       "| wednesday | evening   | \n",
       "| wednesday | night     | \n",
       "| thursday  | morning   | \n",
       "| thursday  | afternoon | \n",
       "| thursday  | evening   | \n",
       "| thursday  | night     | \n",
       "| friday    | morning   | \n",
       "| friday    | afternoon | \n",
       "| friday    | evening   | \n",
       "| friday    | night     | \n",
       "| saturday  | morning   | \n",
       "| saturday  | afternoon | \n",
       "| saturday  | evening   | \n",
       "| saturday  | night     | \n",
       "| sunday    | morning   | \n",
       "| sunday    | afternoon | \n",
       "| sunday    | evening   | \n",
       "| sunday    | night     | \n",
       "\n",
       "\n"
      ],
      "text/plain": [
       "   weekday   hourtype \n",
       "1  monday    morning  \n",
       "2  monday    afternoon\n",
       "3  monday    evening  \n",
       "4  monday    night    \n",
       "5  tuesday   morning  \n",
       "6  tuesday   afternoon\n",
       "7  tuesday   evening  \n",
       "8  tuesday   night    \n",
       "9  wednesday morning  \n",
       "10 wednesday afternoon\n",
       "11 wednesday evening  \n",
       "12 wednesday night    \n",
       "13 thursday  morning  \n",
       "14 thursday  afternoon\n",
       "15 thursday  evening  \n",
       "16 thursday  night    \n",
       "17 friday    morning  \n",
       "18 friday    afternoon\n",
       "19 friday    evening  \n",
       "20 friday    night    \n",
       "21 saturday  morning  \n",
       "22 saturday  afternoon\n",
       "23 saturday  evening  \n",
       "24 saturday  night    \n",
       "25 sunday    morning  \n",
       "26 sunday    afternoon\n",
       "27 sunday    evening  \n",
       "28 sunday    night    "
      ]
     },
     "metadata": {},
     "output_type": "display_data"
    }
   ],
   "source": [
    "weekday_labels = c(\"monday\", \"tuesday\", \"wednesday\", \"thursday\", \"friday\", \"saturday\", \"sunday\")\n",
    "hourtype_labels = c(\"morning\", \"afternoon\", \"evening\", \"night\")\n",
    "\n",
    "weekdays = c()\n",
    "hourtypes = c()\n",
    "for(w in weekday_labels){\n",
    "    for(h in hourtype_labels){\n",
    "        weekdays = c(weekdays, w)\n",
    "        hourtypes = c(hourtypes, h)\n",
    "    }\n",
    "}\n",
    "\n",
    "data_test = data.frame(\"weekday\"=weekdays, \"hourtype\"=hourtypes)\n",
    "data_test"
   ]
  },
  {
   "cell_type": "markdown",
   "metadata": {},
   "source": [
    "## Create matrix to show predictions"
   ]
  },
  {
   "cell_type": "code",
   "execution_count": 6,
   "metadata": {},
   "outputs": [
    {
     "data": {
      "text/html": [
       "<table>\n",
       "<thead><tr><th></th><th scope=col>morning</th><th scope=col>afternoon</th><th scope=col>evening</th><th scope=col>night</th></tr></thead>\n",
       "<tbody>\n",
       "\t<tr><th scope=row>monday</th><td>home  </td><td>office</td><td>home  </td><td>home  </td></tr>\n",
       "\t<tr><th scope=row>tuesday</th><td>home  </td><td>office</td><td>home  </td><td>home  </td></tr>\n",
       "\t<tr><th scope=row>wednesday</th><td>home  </td><td>office</td><td>home  </td><td>home  </td></tr>\n",
       "\t<tr><th scope=row>thursday</th><td>home  </td><td>office</td><td>home  </td><td>home  </td></tr>\n",
       "\t<tr><th scope=row>friday</th><td>home  </td><td>office</td><td>home  </td><td>home  </td></tr>\n",
       "\t<tr><th scope=row>saturday</th><td>home  </td><td>home  </td><td>home  </td><td>home  </td></tr>\n",
       "\t<tr><th scope=row>sunday</th><td>home  </td><td>home  </td><td>home  </td><td>home  </td></tr>\n",
       "</tbody>\n",
       "</table>\n"
      ],
      "text/latex": [
       "\\begin{tabular}{r|llll}\n",
       "  & morning & afternoon & evening & night\\\\\n",
       "\\hline\n",
       "\tmonday & home   & office & home   & home  \\\\\n",
       "\ttuesday & home   & office & home   & home  \\\\\n",
       "\twednesday & home   & office & home   & home  \\\\\n",
       "\tthursday & home   & office & home   & home  \\\\\n",
       "\tfriday & home   & office & home   & home  \\\\\n",
       "\tsaturday & home   & home   & home   & home  \\\\\n",
       "\tsunday & home   & home   & home   & home  \\\\\n",
       "\\end{tabular}\n"
      ],
      "text/markdown": [
       "\n",
       "| <!--/--> | morning | afternoon | evening | night | \n",
       "|---|---|---|---|---|---|---|\n",
       "| monday | home   | office | home   | home   | \n",
       "| tuesday | home   | office | home   | home   | \n",
       "| wednesday | home   | office | home   | home   | \n",
       "| thursday | home   | office | home   | home   | \n",
       "| friday | home   | office | home   | home   | \n",
       "| saturday | home   | home   | home   | home   | \n",
       "| sunday | home   | home   | home   | home   | \n",
       "\n",
       "\n"
      ],
      "text/plain": [
       "          morning afternoon evening night\n",
       "monday    home    office    home    home \n",
       "tuesday   home    office    home    home \n",
       "wednesday home    office    home    home \n",
       "thursday  home    office    home    home \n",
       "friday    home    office    home    home \n",
       "saturday  home    home      home    home \n",
       "sunday    home    home      home    home "
      ]
     },
     "metadata": {},
     "output_type": "display_data"
    }
   ],
   "source": [
    "pred_matrix = matrix(predict(locmodel, data_test), byrow=TRUE, nrow=7)\n",
    "rownames(pred_matrix) = weekday_labels\n",
    "colnames(pred_matrix) = hourtype_labels\n",
    "pred_matrix"
   ]
  }
 ],
 "metadata": {
  "kernelspec": {
   "display_name": "R",
   "language": "R",
   "name": "ir"
  },
  "language_info": {
   "codemirror_mode": "r",
   "file_extension": ".r",
   "mimetype": "text/x-r-source",
   "name": "R",
   "pygments_lexer": "r",
   "version": "3.4.1"
  }
 },
 "nbformat": 4,
 "nbformat_minor": 2
}
