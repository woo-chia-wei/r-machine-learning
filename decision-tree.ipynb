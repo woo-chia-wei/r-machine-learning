{
 "cells": [
  {
   "cell_type": "markdown",
   "metadata": {},
   "source": [
    "## Import packages"
   ]
  },
  {
   "cell_type": "code",
   "execution_count": 1,
   "metadata": {},
   "outputs": [
    {
     "name": "stderr",
     "output_type": "stream",
     "text": [
      "randomForest 4.6-12\n",
      "Type rfNews() to see new features/changes/bug fixes.\n"
     ]
    }
   ],
   "source": [
    "library(rpart)\n",
    "library(rpart.plot)\n",
    "library(randomForest)"
   ]
  },
  {
   "cell_type": "markdown",
   "metadata": {},
   "source": [
    "## Import loans data\n",
    "To predict credit card default."
   ]
  },
  {
   "cell_type": "code",
   "execution_count": 2,
   "metadata": {},
   "outputs": [
    {
     "data": {
      "text/html": [
       "<table>\n",
       "<thead><tr><th scope=col>loan_amount</th><th scope=col>emp_length</th><th scope=col>home_ownership</th><th scope=col>income</th><th scope=col>loan_purpose</th><th scope=col>debt_to_income</th><th scope=col>credit_score</th><th scope=col>recent_inquiry</th><th scope=col>delinquent</th><th scope=col>credit_accounts</th><th scope=col>bad_public_record</th><th scope=col>credit_utilization</th><th scope=col>past_bankrupt</th><th scope=col>outcome</th></tr></thead>\n",
       "<tbody>\n",
       "\t<tr><td>LOW                  </td><td>10+ years            </td><td>RENT                 </td><td>LOW                  </td><td>credit_card          </td><td>HIGH                 </td><td>AVERAGE              </td><td>YES                  </td><td>NEVER                </td><td>FEW                  </td><td>NO                   </td><td>HIGH                 </td><td>NO                   </td><td>default              </td></tr>\n",
       "\t<tr><td><span style=white-space:pre-wrap>LOW   </span>               </td><td><span style=white-space:pre-wrap>&lt; 2 years  </span>       </td><td>RENT                                                         </td><td><span style=white-space:pre-wrap>LOW   </span>               </td><td><span style=white-space:pre-wrap>car           </span>       </td><td><span style=white-space:pre-wrap>LOW    </span>              </td><td>AVERAGE                                                      </td><td>YES                                                          </td><td><span style=white-space:pre-wrap>NEVER                </span></td><td><span style=white-space:pre-wrap>FEW    </span>              </td><td>NO                                                           </td><td><span style=white-space:pre-wrap>LOW   </span>               </td><td>NO                                                           </td><td>repaid                                                       </td></tr>\n",
       "\t<tr><td>LOW                  </td><td>10+ years            </td><td>RENT                 </td><td>LOW                  </td><td>small_business       </td><td>AVERAGE              </td><td>AVERAGE              </td><td>YES                  </td><td>NEVER                </td><td>FEW                  </td><td>NO                   </td><td>HIGH                 </td><td>NO                   </td><td>default              </td></tr>\n",
       "\t<tr><td>MEDIUM               </td><td>10+ years            </td><td>RENT                 </td><td>MEDIUM               </td><td>other                </td><td>HIGH                 </td><td>AVERAGE              </td><td>YES                  </td><td>MORE THAN 2 YEARS AGO</td><td>AVERAGE              </td><td>NO                   </td><td>LOW                  </td><td>NO                   </td><td>default              </td></tr>\n",
       "\t<tr><td><span style=white-space:pre-wrap>LOW   </span>        </td><td><span style=white-space:pre-wrap>&lt; 2 years  </span></td><td>RENT                                                  </td><td><span style=white-space:pre-wrap>HIGH  </span>        </td><td><span style=white-space:pre-wrap>other         </span></td><td>AVERAGE                                               </td><td>AVERAGE                                               </td><td>NO                                                    </td><td>MORE THAN 2 YEARS AGO                                 </td><td><span style=white-space:pre-wrap>MANY   </span>       </td><td>NO                                                    </td><td>MEDIUM                                                </td><td>NO                                                    </td><td>default                                               </td></tr>\n",
       "\t<tr><td>LOW                  </td><td>2 - 5 years          </td><td>RENT                 </td><td>LOW                  </td><td>wedding              </td><td>AVERAGE              </td><td>AVERAGE              </td><td>YES                  </td><td>NEVER                </td><td>AVERAGE              </td><td>NO                   </td><td>MEDIUM               </td><td>NO                   </td><td>default              </td></tr>\n",
       "</tbody>\n",
       "</table>\n"
      ],
      "text/latex": [
       "\\begin{tabular}{r|llllllllllllll}\n",
       " loan\\_amount & emp\\_length & home\\_ownership & income & loan\\_purpose & debt\\_to\\_income & credit\\_score & recent\\_inquiry & delinquent & credit\\_accounts & bad\\_public\\_record & credit\\_utilization & past\\_bankrupt & outcome\\\\\n",
       "\\hline\n",
       "\t LOW                   & 10+ years             & RENT                  & LOW                   & credit\\_card         & HIGH                  & AVERAGE               & YES                   & NEVER                 & FEW                   & NO                    & HIGH                  & NO                    & default              \\\\\n",
       "\t LOW                   & < 2 years             & RENT                  & LOW                   & car                   & LOW                   & AVERAGE               & YES                   & NEVER                 & FEW                   & NO                    & LOW                   & NO                    & repaid               \\\\\n",
       "\t LOW                   & 10+ years             & RENT                  & LOW                   & small\\_business      & AVERAGE               & AVERAGE               & YES                   & NEVER                 & FEW                   & NO                    & HIGH                  & NO                    & default              \\\\\n",
       "\t MEDIUM                & 10+ years             & RENT                  & MEDIUM                & other                 & HIGH                  & AVERAGE               & YES                   & MORE THAN 2 YEARS AGO & AVERAGE               & NO                    & LOW                   & NO                    & default              \\\\\n",
       "\t LOW                   & < 2 years             & RENT                  & HIGH                  & other                 & AVERAGE               & AVERAGE               & NO                    & MORE THAN 2 YEARS AGO & MANY                  & NO                    & MEDIUM                & NO                    & default              \\\\\n",
       "\t LOW                   & 2 - 5 years           & RENT                  & LOW                   & wedding               & AVERAGE               & AVERAGE               & YES                   & NEVER                 & AVERAGE               & NO                    & MEDIUM                & NO                    & default              \\\\\n",
       "\\end{tabular}\n"
      ],
      "text/markdown": [
       "\n",
       "loan_amount | emp_length | home_ownership | income | loan_purpose | debt_to_income | credit_score | recent_inquiry | delinquent | credit_accounts | bad_public_record | credit_utilization | past_bankrupt | outcome | \n",
       "|---|---|---|---|---|---|\n",
       "| LOW                   | 10+ years             | RENT                  | LOW                   | credit_card           | HIGH                  | AVERAGE               | YES                   | NEVER                 | FEW                   | NO                    | HIGH                  | NO                    | default               | \n",
       "| LOW                   | < 2 years             | RENT                  | LOW                   | car                   | LOW                   | AVERAGE               | YES                   | NEVER                 | FEW                   | NO                    | LOW                   | NO                    | repaid                | \n",
       "| LOW                   | 10+ years             | RENT                  | LOW                   | small_business        | AVERAGE               | AVERAGE               | YES                   | NEVER                 | FEW                   | NO                    | HIGH                  | NO                    | default               | \n",
       "| MEDIUM                | 10+ years             | RENT                  | MEDIUM                | other                 | HIGH                  | AVERAGE               | YES                   | MORE THAN 2 YEARS AGO | AVERAGE               | NO                    | LOW                   | NO                    | default               | \n",
       "| LOW                   | < 2 years             | RENT                  | HIGH                  | other                 | AVERAGE               | AVERAGE               | NO                    | MORE THAN 2 YEARS AGO | MANY                  | NO                    | MEDIUM                | NO                    | default               | \n",
       "| LOW                   | 2 - 5 years           | RENT                  | LOW                   | wedding               | AVERAGE               | AVERAGE               | YES                   | NEVER                 | AVERAGE               | NO                    | MEDIUM                | NO                    | default               | \n",
       "\n",
       "\n"
      ],
      "text/plain": [
       "  loan_amount emp_length  home_ownership income loan_purpose   debt_to_income\n",
       "1 LOW         10+ years   RENT           LOW    credit_card    HIGH          \n",
       "2 LOW         < 2 years   RENT           LOW    car            LOW           \n",
       "3 LOW         10+ years   RENT           LOW    small_business AVERAGE       \n",
       "4 MEDIUM      10+ years   RENT           MEDIUM other          HIGH          \n",
       "5 LOW         < 2 years   RENT           HIGH   other          AVERAGE       \n",
       "6 LOW         2 - 5 years RENT           LOW    wedding        AVERAGE       \n",
       "  credit_score recent_inquiry delinquent            credit_accounts\n",
       "1 AVERAGE      YES            NEVER                 FEW            \n",
       "2 AVERAGE      YES            NEVER                 FEW            \n",
       "3 AVERAGE      YES            NEVER                 FEW            \n",
       "4 AVERAGE      YES            MORE THAN 2 YEARS AGO AVERAGE        \n",
       "5 AVERAGE      NO             MORE THAN 2 YEARS AGO MANY           \n",
       "6 AVERAGE      YES            NEVER                 AVERAGE        \n",
       "  bad_public_record credit_utilization past_bankrupt outcome\n",
       "1 NO                HIGH               NO            default\n",
       "2 NO                LOW                NO            repaid \n",
       "3 NO                HIGH               NO            default\n",
       "4 NO                LOW                NO            default\n",
       "5 NO                MEDIUM             NO            default\n",
       "6 NO                MEDIUM             NO            default"
      ]
     },
     "metadata": {},
     "output_type": "display_data"
    },
    {
     "name": "stdout",
     "output_type": "stream",
     "text": [
      "'data.frame':\t11297 obs. of  14 variables:\n",
      " $ loan_amount       : Factor w/ 3 levels \"HIGH\",\"LOW\",\"MEDIUM\": 2 2 2 3 2 2 3 2 3 2 ...\n",
      " $ emp_length        : Factor w/ 5 levels \"< 2 years\",\"10+ years\",..: 2 1 2 2 1 3 4 4 3 1 ...\n",
      " $ home_ownership    : Factor w/ 4 levels \"MORTGAGE\",\"OTHER\",..: 4 4 4 4 4 4 4 4 3 4 ...\n",
      " $ income            : Factor w/ 3 levels \"HIGH\",\"LOW\",\"MEDIUM\": 2 2 2 3 1 2 3 3 3 2 ...\n",
      " $ loan_purpose      : Factor w/ 14 levels \"car\",\"credit_card\",..: 2 1 12 10 10 14 3 1 12 10 ...\n",
      " $ debt_to_income    : Factor w/ 3 levels \"AVERAGE\",\"HIGH\",..: 2 3 1 2 1 1 2 3 3 1 ...\n",
      " $ credit_score      : Factor w/ 3 levels \"AVERAGE\",\"HIGH\",..: 1 1 1 1 1 1 1 3 1 1 ...\n",
      " $ recent_inquiry    : Factor w/ 2 levels \"NO\",\"YES\": 2 2 2 2 1 2 2 2 2 1 ...\n",
      " $ delinquent        : Factor w/ 3 levels \"IN PAST 2 YEARS\",..: 3 3 3 2 2 3 3 3 3 3 ...\n",
      " $ credit_accounts   : Factor w/ 3 levels \"AVERAGE\",\"FEW\",..: 2 2 2 1 3 1 1 2 1 2 ...\n",
      " $ bad_public_record : Factor w/ 2 levels \"NO\",\"YES\": 1 1 1 1 1 1 1 1 1 1 ...\n",
      " $ credit_utilization: Factor w/ 3 levels \"HIGH\",\"LOW\",\"MEDIUM\": 1 2 1 2 3 3 1 1 3 3 ...\n",
      " $ past_bankrupt     : Factor w/ 2 levels \"NO\",\"YES\": 1 1 1 1 1 1 1 1 1 1 ...\n",
      " $ outcome           : Factor w/ 2 levels \"default\",\"repaid\": 1 2 1 1 1 1 1 1 2 2 ...\n"
     ]
    }
   ],
   "source": [
    "loans = read.csv(\"data/loans.csv\")\n",
    "head(loans)\n",
    "str(loans)"
   ]
  },
  {
   "cell_type": "markdown",
   "metadata": {},
   "source": [
    "## Number of default vs repaid data"
   ]
  },
  {
   "cell_type": "code",
   "execution_count": 3,
   "metadata": {},
   "outputs": [
    {
     "data": {
      "text/plain": [
       "\n",
       "default  repaid \n",
       "   5646    5651 "
      ]
     },
     "metadata": {},
     "output_type": "display_data"
    }
   ],
   "source": [
    "table(loans$outcome)"
   ]
  },
  {
   "cell_type": "markdown",
   "metadata": {},
   "source": [
    "## Split into training & testing dataset\n",
    "Here we use 75% data at random for training and the remaining 25% for testing"
   ]
  },
  {
   "cell_type": "code",
   "execution_count": 4,
   "metadata": {},
   "outputs": [
    {
     "name": "stdout",
     "output_type": "stream",
     "text": [
      "[1] \"Number of training data: 8472\"\n",
      "[1] \"Number of testing data: 2825\"\n"
     ]
    }
   ],
   "source": [
    "total = nrow(loans)\n",
    "train = total * 0.75\n",
    "sample_rows = sample(total, train)\n",
    "loans_train = loans[sample_rows,]\n",
    "loans_test = loans[-sample_rows,]\n",
    "print(paste(\"Number of training data:\", nrow(loans_train)))\n",
    "print(paste(\"Number of testing data:\", nrow(loans_test)))"
   ]
  },
  {
   "cell_type": "markdown",
   "metadata": {},
   "source": [
    "## Create decision tree model"
   ]
  },
  {
   "cell_type": "code",
   "execution_count": 5,
   "metadata": {},
   "outputs": [
    {
     "name": "stdout",
     "output_type": "stream",
     "text": [
      "[1] \"Decision tree model:\"\n"
     ]
    },
    {
     "data": {
      "text/plain": [
       "n= 11297 \n",
       "\n",
       "node), split, n, loss, yval, (yprob)\n",
       "      * denotes terminal node\n",
       "\n",
       " 1) root 11297 5646 repaid (0.4997787 0.5002213)  \n",
       "   2) credit_score=HIGH 1623  601 default (0.6296981 0.3703019) *\n",
       "   3) credit_score=AVERAGE,LOW 9674 4624 repaid (0.4779822 0.5220178)  \n",
       "     6) credit_score=AVERAGE 8007 3992 repaid (0.4985638 0.5014362)  \n",
       "      12) loan_amount=HIGH,MEDIUM 6323 3079 default (0.5130476 0.4869524)  \n",
       "        24) loan_amount=MEDIUM 3588 1688 default (0.5295429 0.4704571) *\n",
       "        25) loan_amount=HIGH 2735 1344 repaid (0.4914077 0.5085923) *\n",
       "      13) loan_amount=LOW 1684  748 repaid (0.4441805 0.5558195) *\n",
       "     7) credit_score=LOW 1667  632 repaid (0.3791242 0.6208758) *"
      ]
     },
     "metadata": {},
     "output_type": "display_data"
    },
    {
     "name": "stdout",
     "output_type": "stream",
     "text": [
      "[1] \"Confusion matrix:\"\n"
     ]
    },
    {
     "data": {
      "text/plain": [
       "         loan_pred\n",
       "          default repaid\n",
       "  default    2922   2724\n",
       "  repaid     2289   3362"
      ]
     },
     "metadata": {},
     "output_type": "display_data"
    },
    {
     "name": "stdout",
     "output_type": "stream",
     "text": [
      "[1] \"Accuracy: 0.556253872709569\"\n"
     ]
    }
   ],
   "source": [
    "loan_model = rpart(outcome ~ loan_amount + credit_score, data = loans, method = \"class\", control = rpart.control(cp = 0))\n",
    "loan_pred = predict(loan_model, loans, type = \"class\")\n",
    "\n",
    "print(\"Decision tree model:\")\n",
    "loan_model\n",
    "print(\"Confusion matrix:\")\n",
    "table(loans$outcome, loan_pred)\n",
    "print(paste(\"Accuracy:\", mean(loans$outcome == loan_pred)))"
   ]
  },
  {
   "cell_type": "code",
   "execution_count": 6,
   "metadata": {},
   "outputs": [
    {
     "data": {
      "image/png": "[encoded data removed]",
      "text/plain": [
       "plot without title"
      ]
     },
     "metadata": {},
     "output_type": "display_data"
    }
   ],
   "source": [
    "rpart.plot(loan_model, type = 1, box.palette = c(\"red\", \"green\"), fallen.leaves = FALSE)"
   ]
  },
  {
   "cell_type": "markdown",
   "metadata": {},
   "source": [
    "## Pre-Pruning\n",
    "Defines maximum depth or minimum observation to split to improve accuracy as in preventing overgrown trees"
   ]
  },
  {
   "cell_type": "code",
   "execution_count": 7,
   "metadata": {},
   "outputs": [
    {
     "data": {
      "text/html": [
       "<span style=white-space:pre-wrap>'Accuracy for non-pruning model:  0.571681415929204'</span>"
      ],
      "text/latex": [
       "'Accuracy for non-pruning model:  0.571681415929204'"
      ],
      "text/markdown": [
       "<span style=white-space:pre-wrap>'Accuracy for non-pruning model:  0.571681415929204'</span>"
      ],
      "text/plain": [
       "[1] \"Accuracy for non-pruning model:  0.571681415929204\""
      ]
     },
     "metadata": {},
     "output_type": "display_data"
    },
    {
     "data": {
      "text/html": [
       "<span style=white-space:pre-wrap>'Accuracy for max depth pruning model:  0.597522123893805'</span>"
      ],
      "text/latex": [
       "'Accuracy for max depth pruning model:  0.597522123893805'"
      ],
      "text/markdown": [
       "<span style=white-space:pre-wrap>'Accuracy for max depth pruning model:  0.597522123893805'</span>"
      ],
      "text/plain": [
       "[1] \"Accuracy for max depth pruning model:  0.597522123893805\""
      ]
     },
     "metadata": {},
     "output_type": "display_data"
    },
    {
     "data": {
      "text/html": [
       "<span style=white-space:pre-wrap>'Accuracy for min split pruning model:  0.609557522123894'</span>"
      ],
      "text/latex": [
       "'Accuracy for min split pruning model:  0.609557522123894'"
      ],
      "text/markdown": [
       "<span style=white-space:pre-wrap>'Accuracy for min split pruning model:  0.609557522123894'</span>"
      ],
      "text/plain": [
       "[1] \"Accuracy for min split pruning model:  0.609557522123894\""
      ]
     },
     "metadata": {},
     "output_type": "display_data"
    }
   ],
   "source": [
    "accuracy = function(model){\n",
    "    pred = predict(model, loans_test, type = \"class\")\n",
    "    return(mean(pred == loans_test$outcome))\n",
    "}\n",
    "\n",
    "loan_model = rpart(outcome ~ ., data = loans_train, method = \"class\", control = rpart.control(cp = 0))\n",
    "loan_model_maxdepth = rpart(outcome ~ ., data = loans_train, method = \"class\", control = rpart.control(cp = 0, maxdepth = 6))\n",
    "loan_model_minsplit = rpart(outcome ~ ., data = loans_train, method = \"class\", control = rpart.control(cp = 0, minsplit = 500))\n",
    "\n",
    "paste(\"Accuracy for non-pruning model: \", accuracy(loan_model))\n",
    "paste(\"Accuracy for max depth pruning model: \", accuracy(loan_model_maxdepth))\n",
    "paste(\"Accuracy for min split pruning model: \", accuracy(loan_model_minsplit))"
   ]
  },
  {
   "cell_type": "markdown",
   "metadata": {},
   "source": [
    "## Post-Pruning\n",
    "Grow a large and complex tree then prune it to be smaller and more efficient tree.   \n",
    "Use complexity plot to determine where to prune."
   ]
  },
  {
   "cell_type": "code",
   "execution_count": 8,
   "metadata": {},
   "outputs": [
    {
     "data": {
      "image/png": "[encoded data removed]",
      "text/plain": [
       "plot without title"
      ]
     },
     "metadata": {},
     "output_type": "display_data"
    }
   ],
   "source": [
    "loan_model <- rpart(outcome ~ ., data = loans_train, method = \"class\", control = rpart.control(cp = 0))\n",
    "plotcp(loan_model)"
   ]
  },
  {
   "cell_type": "code",
   "execution_count": 9,
   "metadata": {},
   "outputs": [
    {
     "data": {
      "text/html": [
       "<span style=white-space:pre-wrap>'Accuracy for post-pruned model:  0.608495575221239'</span>"
      ],
      "text/latex": [
       "'Accuracy for post-pruned model:  0.608495575221239'"
      ],
      "text/markdown": [
       "<span style=white-space:pre-wrap>'Accuracy for post-pruned model:  0.608495575221239'</span>"
      ],
      "text/plain": [
       "[1] \"Accuracy for post-pruned model:  0.608495575221239\""
      ]
     },
     "metadata": {},
     "output_type": "display_data"
    }
   ],
   "source": [
    "# Let's take 0.0014 as example\n",
    "loan_model_pruned = prune(loan_model, cp = 0.0014)\n",
    "paste(\"Accuracy for post-pruned model: \", accuracy(loan_model_pruned))"
   ]
  },
  {
   "cell_type": "markdown",
   "metadata": {},
   "source": [
    "## Random forest\n",
    "Random forests uses ensemble to generate a single prediction by allowing the trees to \"vote\" on the outcome.    \n",
    "Teamwork-based approach of the random forest may help it find important trends a single tree may miss."
   ]
  },
  {
   "cell_type": "code",
   "execution_count": 10,
   "metadata": {},
   "outputs": [
    {
     "data": {
      "text/html": [
       "<span style=white-space:pre-wrap>'Accuracy for random forest model:  0.603185840707965'</span>"
      ],
      "text/latex": [
       "'Accuracy for random forest model:  0.603185840707965'"
      ],
      "text/markdown": [
       "<span style=white-space:pre-wrap>'Accuracy for random forest model:  0.603185840707965'</span>"
      ],
      "text/plain": [
       "[1] \"Accuracy for random forest model:  0.603185840707965\""
      ]
     },
     "metadata": {},
     "output_type": "display_data"
    }
   ],
   "source": [
    "loan_model_random_forest <- randomForest(outcome ~ ., data = loans_train)\n",
    "paste(\"Accuracy for random forest model: \", accuracy(loan_model_random_forest))"
   ]
  }
 ],
 "metadata": {
  "kernelspec": {
   "display_name": "R",
   "language": "R",
   "name": "ir"
  },
  "language_info": {
   "codemirror_mode": "r",
   "file_extension": ".r",
   "mimetype": "text/x-r-source",
   "name": "R",
   "pygments_lexer": "r",
   "version": "3.4.1"
  }
 },
 "nbformat": 4,
 "nbformat_minor": 2
}
