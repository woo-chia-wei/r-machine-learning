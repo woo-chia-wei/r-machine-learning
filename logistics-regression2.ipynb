{
 "cells": [
  {
   "cell_type": "markdown",
   "metadata": {},
   "source": [
    "## Load packages"
   ]
  },
  {
   "cell_type": "code",
   "execution_count": 1,
   "metadata": {},
   "outputs": [
    {
     "name": "stderr",
     "output_type": "stream",
     "text": [
      "Type 'citation(\"pROC\")' for a citation.\n",
      "\n",
      "Attaching package: 'pROC'\n",
      "\n",
      "The following objects are masked from 'package:stats':\n",
      "\n",
      "    cov, smooth, var\n",
      "\n"
     ]
    }
   ],
   "source": [
    "library(pROC)"
   ]
  },
  {
   "cell_type": "markdown",
   "metadata": {},
   "source": [
    "## Import donors data\n",
    "The goal is to predict whether person will donate using logistic regression (binary classification)"
   ]
  },
  {
   "cell_type": "code",
   "execution_count": 2,
   "metadata": {},
   "outputs": [
    {
     "data": {
      "text/html": [
       "<table>\n",
       "<thead><tr><th scope=col>donated</th><th scope=col>veteran</th><th scope=col>bad_address</th><th scope=col>age</th><th scope=col>has_children</th><th scope=col>wealth_rating</th><th scope=col>interest_veterans</th><th scope=col>interest_religion</th><th scope=col>pet_owner</th><th scope=col>catalog_shopper</th><th scope=col>recency</th><th scope=col>frequency</th><th scope=col>money</th></tr></thead>\n",
       "<tbody>\n",
       "\t<tr><td>0         </td><td>0         </td><td>0         </td><td>60        </td><td>0         </td><td>0         </td><td>0         </td><td>0         </td><td>0         </td><td>0         </td><td>CURRENT   </td><td>FREQUENT  </td><td>MEDIUM    </td></tr>\n",
       "\t<tr><td>0         </td><td>0         </td><td>0         </td><td>46        </td><td>1         </td><td>3         </td><td>0         </td><td>0         </td><td>0         </td><td>0         </td><td>CURRENT   </td><td>FREQUENT  </td><td>HIGH      </td></tr>\n",
       "\t<tr><td>0         </td><td>0         </td><td>0         </td><td>NA        </td><td>0         </td><td>1         </td><td>0         </td><td>0         </td><td>0         </td><td>0         </td><td>CURRENT   </td><td>FREQUENT  </td><td>MEDIUM    </td></tr>\n",
       "\t<tr><td>0         </td><td>0         </td><td>0         </td><td>70        </td><td>0         </td><td>2         </td><td>0         </td><td>0         </td><td>0         </td><td>0         </td><td>CURRENT   </td><td>FREQUENT  </td><td>MEDIUM    </td></tr>\n",
       "\t<tr><td>0         </td><td>0         </td><td>0         </td><td>78        </td><td>1         </td><td>1         </td><td>0         </td><td>1         </td><td>0         </td><td>1         </td><td>CURRENT   </td><td>FREQUENT  </td><td>MEDIUM    </td></tr>\n",
       "\t<tr><td>0         </td><td>0         </td><td>0         </td><td>NA        </td><td>0         </td><td>0         </td><td>0         </td><td>0         </td><td>0         </td><td>0         </td><td>CURRENT   </td><td>INFREQUENT</td><td>MEDIUM    </td></tr>\n",
       "</tbody>\n",
       "</table>\n"
      ],
      "text/latex": [
       "\\begin{tabular}{r|lllllllllllll}\n",
       " donated & veteran & bad\\_address & age & has\\_children & wealth\\_rating & interest\\_veterans & interest\\_religion & pet\\_owner & catalog\\_shopper & recency & frequency & money\\\\\n",
       "\\hline\n",
       "\t 0          & 0          & 0          & 60         & 0          & 0          & 0          & 0          & 0          & 0          & CURRENT    & FREQUENT   & MEDIUM    \\\\\n",
       "\t 0          & 0          & 0          & 46         & 1          & 3          & 0          & 0          & 0          & 0          & CURRENT    & FREQUENT   & HIGH      \\\\\n",
       "\t 0          & 0          & 0          & NA         & 0          & 1          & 0          & 0          & 0          & 0          & CURRENT    & FREQUENT   & MEDIUM    \\\\\n",
       "\t 0          & 0          & 0          & 70         & 0          & 2          & 0          & 0          & 0          & 0          & CURRENT    & FREQUENT   & MEDIUM    \\\\\n",
       "\t 0          & 0          & 0          & 78         & 1          & 1          & 0          & 1          & 0          & 1          & CURRENT    & FREQUENT   & MEDIUM    \\\\\n",
       "\t 0          & 0          & 0          & NA         & 0          & 0          & 0          & 0          & 0          & 0          & CURRENT    & INFREQUENT & MEDIUM    \\\\\n",
       "\\end{tabular}\n"
      ],
      "text/markdown": [
       "\n",
       "donated | veteran | bad_address | age | has_children | wealth_rating | interest_veterans | interest_religion | pet_owner | catalog_shopper | recency | frequency | money | \n",
       "|---|---|---|---|---|---|\n",
       "| 0          | 0          | 0          | 60         | 0          | 0          | 0          | 0          | 0          | 0          | CURRENT    | FREQUENT   | MEDIUM     | \n",
       "| 0          | 0          | 0          | 46         | 1          | 3          | 0          | 0          | 0          | 0          | CURRENT    | FREQUENT   | HIGH       | \n",
       "| 0          | 0          | 0          | NA         | 0          | 1          | 0          | 0          | 0          | 0          | CURRENT    | FREQUENT   | MEDIUM     | \n",
       "| 0          | 0          | 0          | 70         | 0          | 2          | 0          | 0          | 0          | 0          | CURRENT    | FREQUENT   | MEDIUM     | \n",
       "| 0          | 0          | 0          | 78         | 1          | 1          | 0          | 1          | 0          | 1          | CURRENT    | FREQUENT   | MEDIUM     | \n",
       "| 0          | 0          | 0          | NA         | 0          | 0          | 0          | 0          | 0          | 0          | CURRENT    | INFREQUENT | MEDIUM     | \n",
       "\n",
       "\n"
      ],
      "text/plain": [
       "  donated veteran bad_address age has_children wealth_rating interest_veterans\n",
       "1 0       0       0           60  0            0             0                \n",
       "2 0       0       0           46  1            3             0                \n",
       "3 0       0       0           NA  0            1             0                \n",
       "4 0       0       0           70  0            2             0                \n",
       "5 0       0       0           78  1            1             0                \n",
       "6 0       0       0           NA  0            0             0                \n",
       "  interest_religion pet_owner catalog_shopper recency frequency  money \n",
       "1 0                 0         0               CURRENT FREQUENT   MEDIUM\n",
       "2 0                 0         0               CURRENT FREQUENT   HIGH  \n",
       "3 0                 0         0               CURRENT FREQUENT   MEDIUM\n",
       "4 0                 0         0               CURRENT FREQUENT   MEDIUM\n",
       "5 1                 0         1               CURRENT FREQUENT   MEDIUM\n",
       "6 0                 0         0               CURRENT INFREQUENT MEDIUM"
      ]
     },
     "metadata": {},
     "output_type": "display_data"
    },
    {
     "name": "stdout",
     "output_type": "stream",
     "text": [
      "'data.frame':\t93462 obs. of  13 variables:\n",
      " $ donated          : int  0 0 0 0 0 0 0 0 0 0 ...\n",
      " $ veteran          : int  0 0 0 0 0 0 0 0 0 0 ...\n",
      " $ bad_address      : int  0 0 0 0 0 0 0 0 0 0 ...\n",
      " $ age              : int  60 46 NA 70 78 NA 38 NA NA 65 ...\n",
      " $ has_children     : int  0 1 0 0 1 0 1 0 0 0 ...\n",
      " $ wealth_rating    : int  0 3 1 2 1 0 2 3 1 0 ...\n",
      " $ interest_veterans: int  0 0 0 0 0 0 0 0 0 0 ...\n",
      " $ interest_religion: int  0 0 0 0 1 0 0 0 0 0 ...\n",
      " $ pet_owner        : int  0 0 0 0 0 0 1 0 0 0 ...\n",
      " $ catalog_shopper  : int  0 0 0 0 1 0 0 0 0 0 ...\n",
      " $ recency          : Factor w/ 2 levels \"CURRENT\",\"LAPSED\": 1 1 1 1 1 1 1 1 1 1 ...\n",
      " $ frequency        : Factor w/ 2 levels \"FREQUENT\",\"INFREQUENT\": 1 1 1 1 1 2 2 1 2 2 ...\n",
      " $ money            : Factor w/ 2 levels \"HIGH\",\"MEDIUM\": 2 1 2 2 2 2 2 2 2 2 ...\n"
     ]
    }
   ],
   "source": [
    "donors = read.csv(\"data/donors.csv\")\n",
    "head(donors)\n",
    "str(donors)"
   ]
  },
  {
   "cell_type": "markdown",
   "metadata": {},
   "source": [
    "## Create Logistic Regression Model\n",
    "Use RFM (recency, frequency, monetary) analysis which is a marketing technique for the prediction."
   ]
  },
  {
   "cell_type": "code",
   "execution_count": 3,
   "metadata": {},
   "outputs": [
    {
     "data": {
      "text/plain": [
       "\n",
       "Call:\n",
       "glm(formula = donated ~ recency * frequency + money, family = \"binomial\", \n",
       "    data = donors)\n",
       "\n",
       "Deviance Residuals: \n",
       "    Min       1Q   Median       3Q      Max  \n",
       "-0.3696  -0.3696  -0.2895  -0.2895   2.7924  \n",
       "\n",
       "Coefficients:\n",
       "                                  Estimate Std. Error z value Pr(>|z|)    \n",
       "(Intercept)                       -3.01142    0.04279 -70.375   <2e-16 ***\n",
       "recencyLAPSED                     -0.86677    0.41434  -2.092   0.0364 *  \n",
       "frequencyINFREQUENT               -0.50148    0.03107 -16.143   <2e-16 ***\n",
       "moneyMEDIUM                        0.36186    0.04300   8.415   <2e-16 ***\n",
       "recencyLAPSED:frequencyINFREQUENT  1.01787    0.51713   1.968   0.0490 *  \n",
       "---\n",
       "Signif. codes:  0 '***' 0.001 '**' 0.01 '*' 0.05 '.' 0.1 ' ' 1\n",
       "\n",
       "(Dispersion parameter for binomial family taken to be 1)\n",
       "\n",
       "    Null deviance: 37330  on 93461  degrees of freedom\n",
       "Residual deviance: 36938  on 93457  degrees of freedom\n",
       "AIC: 36948\n",
       "\n",
       "Number of Fisher Scoring iterations: 6\n"
      ]
     },
     "metadata": {},
     "output_type": "display_data"
    }
   ],
   "source": [
    "rfm_model <- glm(donated ~ recency * frequency + money, data = donors, family = \"binomial\")\n",
    "summary(rfm_model)"
   ]
  },
  {
   "cell_type": "markdown",
   "metadata": {},
   "source": [
    "## Use ROC curve to evaluate the model\n",
    "The idea is to plot TPR (True positive rate) vs FPR (False positive rate) over different cutoffpoints"
   ]
  },
  {
   "cell_type": "code",
   "execution_count": 4,
   "metadata": {},
   "outputs": [
    {
     "name": "stdout",
     "output_type": "stream",
     "text": [
      "[1] \"Area under curve is 0.578489371262516\"\n"
     ]
    },
    {
     "data": {
      "image/png": "[encoded data removed]",
      "text/plain": [
       "plot without title"
      ]
     },
     "metadata": {},
     "output_type": "display_data"
    }
   ],
   "source": [
    "rfm_prob = predict(rfm_model, data = donors, type = \"response\")\n",
    "ROC = roc(donors$donated, rfm_prob)\n",
    "plot(ROC, col = \"red\")\n",
    "print(paste(\"Area under curve is\", auc(ROC)))"
   ]
  },
  {
   "cell_type": "markdown",
   "metadata": {},
   "source": [
    "## Simple prediction by setting cutoff = mean"
   ]
  },
  {
   "cell_type": "code",
   "execution_count": 5,
   "metadata": {},
   "outputs": [
    {
     "name": "stdout",
     "output_type": "stream",
     "text": [
      "[1] \"Confusion matrix:\"\n"
     ]
    },
    {
     "data": {
      "text/plain": [
       "   donation_pred\n",
       "        0     1\n",
       "  0 52002 36749\n",
       "  1  2092  2619"
      ]
     },
     "metadata": {},
     "output_type": "display_data"
    },
    {
     "name": "stdout",
     "output_type": "stream",
     "text": [
      "[1] \"Accuracy: 0.584419336200809\"\n"
     ]
    }
   ],
   "source": [
    "donation_pred = predict(rfm_model, type = \"response\")\n",
    "donation_rate = mean(donors$donated)\n",
    "donation_pred = ifelse(donation_pred > donation_rate, 1, 0)\n",
    "\n",
    "print(\"Confusion matrix:\")\n",
    "table(donors$donated, donation_pred)\n",
    "print(paste(\"Accuracy:\", mean(donors$donated == donation_pred)))"
   ]
  },
  {
   "cell_type": "markdown",
   "metadata": {},
   "source": [
    "## Feature selection by using stepwise regression\n",
    "Features are selected from either\n",
    "* Empty subset to Full subset (Forward), or \n",
    "* Full subset to Empty subset (Backward)      \n",
    "\n",
    "while for each successful iteration is an improvement of model"
   ]
  },
  {
   "cell_type": "code",
   "execution_count": 6,
   "metadata": {},
   "outputs": [
    {
     "name": "stdout",
     "output_type": "stream",
     "text": [
      "Start:  AIC=37332.13\n",
      "donated ~ 1\n",
      "\n",
      "                    Df Deviance   AIC\n",
      "+ frequency          1    28502 37122\n",
      "+ money              1    28621 37241\n",
      "+ wealth_rating      1    28705 37326\n",
      "+ has_children       1    28705 37326\n",
      "+ age                1    28707 37328\n",
      "+ interest_veterans  1    28709 37330\n",
      "+ catalog_shopper    1    28710 37330\n",
      "+ pet_owner          1    28711 37331\n",
      "<none>                    28714 37332\n",
      "+ interest_religion  1    28712 37333\n",
      "+ recency            1    28713 37333\n",
      "+ bad_address        1    28714 37334\n",
      "+ veteran            1    28714 37334\n",
      "\n",
      "Step:  AIC=37024.77\n",
      "donated ~ frequency\n",
      "\n",
      "                    Df Deviance   AIC\n",
      "+ money              1    28441 36966\n",
      "+ wealth_rating      1    28493 37018\n",
      "+ has_children       1    28494 37019\n",
      "+ interest_veterans  1    28498 37023\n",
      "+ catalog_shopper    1    28499 37024\n",
      "+ age                1    28499 37024\n",
      "+ pet_owner          1    28499 37024\n",
      "<none>                    28502 37025\n",
      "+ interest_religion  1    28501 37026\n",
      "+ recency            1    28501 37026\n",
      "+ bad_address        1    28502 37026\n",
      "+ veteran            1    28502 37027\n",
      "\n",
      "Step:  AIC=36949.71\n",
      "donated ~ frequency + money\n",
      "\n",
      "                    Df Deviance   AIC\n",
      "+ wealth_rating      1    28431 36942\n",
      "+ has_children       1    28432 36943\n",
      "+ interest_veterans  1    28438 36948\n",
      "+ catalog_shopper    1    28438 36949\n",
      "+ age                1    28439 36949\n",
      "+ pet_owner          1    28439 36949\n",
      "<none>                    28441 36950\n",
      "+ interest_religion  1    28440 36951\n",
      "+ recency            1    28441 36951\n",
      "+ bad_address        1    28441 36951\n",
      "+ veteran            1    28441 36952\n",
      "\n",
      "Step:  AIC=36945.26\n",
      "donated ~ frequency + money + wealth_rating\n",
      "\n",
      "                    Df Deviance   AIC\n",
      "+ has_children       1    28421 36937\n",
      "+ interest_veterans  1    28429 36945\n",
      "+ catalog_shopper    1    28429 36945\n",
      "+ age                1    28429 36945\n",
      "<none>                    28431 36945\n",
      "+ pet_owner          1    28430 36945\n",
      "+ interest_religion  1    28431 36947\n",
      "+ recency            1    28431 36947\n",
      "+ bad_address        1    28431 36947\n",
      "+ veteran            1    28431 36947\n",
      "\n",
      "Step:  AIC=36938.08\n",
      "donated ~ frequency + money + wealth_rating + has_children\n",
      "\n",
      "                    Df Deviance   AIC\n",
      "+ pet_owner          1    28418 36937\n",
      "+ catalog_shopper    1    28418 36937\n",
      "+ interest_veterans  1    28418 36937\n",
      "<none>                    28421 36938\n",
      "+ interest_religion  1    28420 36939\n",
      "+ recency            1    28421 36940\n",
      "+ age                1    28421 36940\n",
      "+ bad_address        1    28421 36940\n",
      "+ veteran            1    28421 36940\n",
      "\n",
      "Step:  AIC=36932.08\n",
      "donated ~ frequency + money + wealth_rating + has_children + \n",
      "    pet_owner\n",
      "\n",
      "                    Df Deviance   AIC\n",
      "<none>                    28418 36932\n",
      "+ interest_veterans  1    28416 36932\n",
      "+ catalog_shopper    1    28416 36932\n",
      "+ age                1    28417 36933\n",
      "+ recency            1    28417 36934\n",
      "+ interest_religion  1    28417 36934\n",
      "+ bad_address        1    28418 36934\n",
      "+ veteran            1    28418 36934\n"
     ]
    }
   ],
   "source": [
    "# Use forward stepwise algorithm\n",
    "options(warn=-1)\n",
    "null_model = glm(donated ~ 1, data = donors, family = \"binomial\")\n",
    "full_model = glm(donated ~ ., data = donors, family = \"binomial\")\n",
    "step_model = step(null_model, scope = list(lower = null_model, upper = full_model), direction = \"forward\")\n",
    "options(warn=0)"
   ]
  },
  {
   "cell_type": "markdown",
   "metadata": {},
   "source": [
    "## Use ROC curve to evaluate the model"
   ]
  },
  {
   "cell_type": "code",
   "execution_count": 7,
   "metadata": {},
   "outputs": [
    {
     "name": "stdout",
     "output_type": "stream",
     "text": [
      "[1] \"Area under curve is 0.585470794088965\"\n"
     ]
    },
    {
     "data": {
      "image/png": "[encoded data removed]",
      "text/plain": [
       "plot without title"
      ]
     },
     "metadata": {},
     "output_type": "display_data"
    }
   ],
   "source": [
    "step_prob <- predict(step_model, type = \"response\")\n",
    "ROC <- roc(donors$donated, step_prob)\n",
    "plot(ROC, col = \"red\")\n",
    "print(paste(\"Area under curve is\", auc(ROC)))"
   ]
  }
 ],
 "metadata": {
  "kernelspec": {
   "display_name": "R",
   "language": "R",
   "name": "ir"
  },
  "language_info": {
   "codemirror_mode": "r",
   "file_extension": ".r",
   "mimetype": "text/x-r-source",
   "name": "R",
   "pygments_lexer": "r",
   "version": "3.4.1"
  }
 },
 "nbformat": 4,
 "nbformat_minor": 2
}
