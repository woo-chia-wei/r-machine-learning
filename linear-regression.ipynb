{
 "cells": [
  {
   "cell_type": "markdown",
   "metadata": {},
   "source": [
    "## Load libraries"
   ]
  },
  {
   "cell_type": "code",
   "execution_count": 1,
   "metadata": {},
   "outputs": [],
   "source": [
    "library(MASS)"
   ]
  },
  {
   "cell_type": "markdown",
   "metadata": {},
   "source": [
    "## Boston dataset\n",
    "<span style=\"background-color: #D3D3D3\"><b>crim</b></span> per capita crime rate by town.  <br>\n",
    "<span style=\"background-color: #D3D3D3\"><b>zn</b></span> proportion of residential land zoned for lots over 25,000 sq.ft.  <br>\n",
    "<span style=\"background-color: #D3D3D3\"><b>indus</b></span> proportion of non-retail business acres per town.  <br>\n",
    "<span style=\"background-color: #D3D3D3\"><b>chas</b></span> Charles River dummy variable (= 1 if tract bounds river; 0 otherwise).  <br>\n",
    "<span style=\"background-color: #D3D3D3\"><b>nox</b></span> nitrogen oxides concentration (parts per 10 million). <br>\n",
    "<span style=\"background-color: #D3D3D3\"><b>rm</b></span> average number of rooms per dwelling.  <br>\n",
    "<span style=\"background-color: #D3D3D3\"><b>age</b></span> proportion of owner-occupied units built prior to 1940. <br>\n",
    "<span style=\"background-color: #D3D3D3\"><b>dis</b></span> weighted mean of distances to five Boston employment centres. <br>\n",
    "<span style=\"background-color: #D3D3D3\"><b>rad</b></span> index of accessibility to radial highways.  <br>\n",
    "<span style=\"background-color: #D3D3D3\"><b>tax</b></span> full-value property-tax rate per $10,000. <br>\n",
    "<span style=\"background-color: #D3D3D3\"><b>ptratio</b></span> pupil-teacher ratio by town. <br>\n",
    "<span style=\"background-color: #D3D3D3\"><b>black</b></span> 1000(Bk - 0.63)^2 where Bk is the proportion of blacks by town. <br>\n",
    "<span style=\"background-color: #D3D3D3\"><b>lstat</b></span> lower status of the population (percent).<br>\n",
    "<span style=\"background-color: #D3D3D3\"><b>medv</b></span> median value of owner-occupied homes in \\$1000s. <br>"
   ]
  },
  {
   "cell_type": "code",
   "execution_count": 2,
   "metadata": {},
   "outputs": [
    {
     "data": {
      "text/html": [
       "<table>\n",
       "<thead><tr><th scope=col>crim</th><th scope=col>zn</th><th scope=col>indus</th><th scope=col>chas</th><th scope=col>nox</th><th scope=col>rm</th><th scope=col>age</th><th scope=col>dis</th><th scope=col>rad</th><th scope=col>tax</th><th scope=col>ptratio</th><th scope=col>black</th><th scope=col>lstat</th><th scope=col>medv</th></tr></thead>\n",
       "<tbody>\n",
       "\t<tr><td>0.00632</td><td>18.0   </td><td>2.31   </td><td>0      </td><td>0.538  </td><td>6.575  </td><td> 65.2  </td><td>4.0900 </td><td>1      </td><td>296    </td><td>15.3   </td><td>396.90 </td><td> 4.98  </td><td>24.0   </td></tr>\n",
       "\t<tr><td>0.02731</td><td> 0.0   </td><td>7.07   </td><td>0      </td><td>0.469  </td><td>6.421  </td><td> 78.9  </td><td>4.9671 </td><td>2      </td><td>242    </td><td>17.8   </td><td>396.90 </td><td> 9.14  </td><td>21.6   </td></tr>\n",
       "\t<tr><td>0.02729</td><td> 0.0   </td><td>7.07   </td><td>0      </td><td>0.469  </td><td>7.185  </td><td> 61.1  </td><td>4.9671 </td><td>2      </td><td>242    </td><td>17.8   </td><td>392.83 </td><td> 4.03  </td><td>34.7   </td></tr>\n",
       "\t<tr><td>0.03237</td><td> 0.0   </td><td>2.18   </td><td>0      </td><td>0.458  </td><td>6.998  </td><td> 45.8  </td><td>6.0622 </td><td>3      </td><td>222    </td><td>18.7   </td><td>394.63 </td><td> 2.94  </td><td>33.4   </td></tr>\n",
       "\t<tr><td>0.06905</td><td> 0.0   </td><td>2.18   </td><td>0      </td><td>0.458  </td><td>7.147  </td><td> 54.2  </td><td>6.0622 </td><td>3      </td><td>222    </td><td>18.7   </td><td>396.90 </td><td> 5.33  </td><td>36.2   </td></tr>\n",
       "\t<tr><td>0.02985</td><td> 0.0   </td><td>2.18   </td><td>0      </td><td>0.458  </td><td>6.430  </td><td> 58.7  </td><td>6.0622 </td><td>3      </td><td>222    </td><td>18.7   </td><td>394.12 </td><td> 5.21  </td><td>28.7   </td></tr>\n",
       "\t<tr><td>0.08829</td><td>12.5   </td><td>7.87   </td><td>0      </td><td>0.524  </td><td>6.012  </td><td> 66.6  </td><td>5.5605 </td><td>5      </td><td>311    </td><td>15.2   </td><td>395.60 </td><td>12.43  </td><td>22.9   </td></tr>\n",
       "\t<tr><td>0.14455</td><td>12.5   </td><td>7.87   </td><td>0      </td><td>0.524  </td><td>6.172  </td><td> 96.1  </td><td>5.9505 </td><td>5      </td><td>311    </td><td>15.2   </td><td>396.90 </td><td>19.15  </td><td>27.1   </td></tr>\n",
       "\t<tr><td>0.21124</td><td>12.5   </td><td>7.87   </td><td>0      </td><td>0.524  </td><td>5.631  </td><td>100.0  </td><td>6.0821 </td><td>5      </td><td>311    </td><td>15.2   </td><td>386.63 </td><td>29.93  </td><td>16.5   </td></tr>\n",
       "\t<tr><td>0.17004</td><td>12.5   </td><td>7.87   </td><td>0      </td><td>0.524  </td><td>6.004  </td><td> 85.9  </td><td>6.5921 </td><td>5      </td><td>311    </td><td>15.2   </td><td>386.71 </td><td>17.10  </td><td>18.9   </td></tr>\n",
       "</tbody>\n",
       "</table>\n"
      ],
      "text/latex": [
       "\\begin{tabular}{r|llllllllllllll}\n",
       " crim & zn & indus & chas & nox & rm & age & dis & rad & tax & ptratio & black & lstat & medv\\\\\n",
       "\\hline\n",
       "\t 0.00632 & 18.0    & 2.31    & 0       & 0.538   & 6.575   &  65.2   & 4.0900  & 1       & 296     & 15.3    & 396.90  &  4.98   & 24.0   \\\\\n",
       "\t 0.02731 &  0.0    & 7.07    & 0       & 0.469   & 6.421   &  78.9   & 4.9671  & 2       & 242     & 17.8    & 396.90  &  9.14   & 21.6   \\\\\n",
       "\t 0.02729 &  0.0    & 7.07    & 0       & 0.469   & 7.185   &  61.1   & 4.9671  & 2       & 242     & 17.8    & 392.83  &  4.03   & 34.7   \\\\\n",
       "\t 0.03237 &  0.0    & 2.18    & 0       & 0.458   & 6.998   &  45.8   & 6.0622  & 3       & 222     & 18.7    & 394.63  &  2.94   & 33.4   \\\\\n",
       "\t 0.06905 &  0.0    & 2.18    & 0       & 0.458   & 7.147   &  54.2   & 6.0622  & 3       & 222     & 18.7    & 396.90  &  5.33   & 36.2   \\\\\n",
       "\t 0.02985 &  0.0    & 2.18    & 0       & 0.458   & 6.430   &  58.7   & 6.0622  & 3       & 222     & 18.7    & 394.12  &  5.21   & 28.7   \\\\\n",
       "\t 0.08829 & 12.5    & 7.87    & 0       & 0.524   & 6.012   &  66.6   & 5.5605  & 5       & 311     & 15.2    & 395.60  & 12.43   & 22.9   \\\\\n",
       "\t 0.14455 & 12.5    & 7.87    & 0       & 0.524   & 6.172   &  96.1   & 5.9505  & 5       & 311     & 15.2    & 396.90  & 19.15   & 27.1   \\\\\n",
       "\t 0.21124 & 12.5    & 7.87    & 0       & 0.524   & 5.631   & 100.0   & 6.0821  & 5       & 311     & 15.2    & 386.63  & 29.93   & 16.5   \\\\\n",
       "\t 0.17004 & 12.5    & 7.87    & 0       & 0.524   & 6.004   &  85.9   & 6.5921  & 5       & 311     & 15.2    & 386.71  & 17.10   & 18.9   \\\\\n",
       "\\end{tabular}\n"
      ],
      "text/markdown": [
       "\n",
       "crim | zn | indus | chas | nox | rm | age | dis | rad | tax | ptratio | black | lstat | medv | \n",
       "|---|---|---|---|---|---|---|---|---|---|\n",
       "| 0.00632 | 18.0    | 2.31    | 0       | 0.538   | 6.575   |  65.2   | 4.0900  | 1       | 296     | 15.3    | 396.90  |  4.98   | 24.0    | \n",
       "| 0.02731 |  0.0    | 7.07    | 0       | 0.469   | 6.421   |  78.9   | 4.9671  | 2       | 242     | 17.8    | 396.90  |  9.14   | 21.6    | \n",
       "| 0.02729 |  0.0    | 7.07    | 0       | 0.469   | 7.185   |  61.1   | 4.9671  | 2       | 242     | 17.8    | 392.83  |  4.03   | 34.7    | \n",
       "| 0.03237 |  0.0    | 2.18    | 0       | 0.458   | 6.998   |  45.8   | 6.0622  | 3       | 222     | 18.7    | 394.63  |  2.94   | 33.4    | \n",
       "| 0.06905 |  0.0    | 2.18    | 0       | 0.458   | 7.147   |  54.2   | 6.0622  | 3       | 222     | 18.7    | 396.90  |  5.33   | 36.2    | \n",
       "| 0.02985 |  0.0    | 2.18    | 0       | 0.458   | 6.430   |  58.7   | 6.0622  | 3       | 222     | 18.7    | 394.12  |  5.21   | 28.7    | \n",
       "| 0.08829 | 12.5    | 7.87    | 0       | 0.524   | 6.012   |  66.6   | 5.5605  | 5       | 311     | 15.2    | 395.60  | 12.43   | 22.9    | \n",
       "| 0.14455 | 12.5    | 7.87    | 0       | 0.524   | 6.172   |  96.1   | 5.9505  | 5       | 311     | 15.2    | 396.90  | 19.15   | 27.1    | \n",
       "| 0.21124 | 12.5    | 7.87    | 0       | 0.524   | 5.631   | 100.0   | 6.0821  | 5       | 311     | 15.2    | 386.63  | 29.93   | 16.5    | \n",
       "| 0.17004 | 12.5    | 7.87    | 0       | 0.524   | 6.004   |  85.9   | 6.5921  | 5       | 311     | 15.2    | 386.71  | 17.10   | 18.9    | \n",
       "\n",
       "\n"
      ],
      "text/plain": [
       "   crim    zn   indus chas nox   rm    age   dis    rad tax ptratio black \n",
       "1  0.00632 18.0 2.31  0    0.538 6.575  65.2 4.0900 1   296 15.3    396.90\n",
       "2  0.02731  0.0 7.07  0    0.469 6.421  78.9 4.9671 2   242 17.8    396.90\n",
       "3  0.02729  0.0 7.07  0    0.469 7.185  61.1 4.9671 2   242 17.8    392.83\n",
       "4  0.03237  0.0 2.18  0    0.458 6.998  45.8 6.0622 3   222 18.7    394.63\n",
       "5  0.06905  0.0 2.18  0    0.458 7.147  54.2 6.0622 3   222 18.7    396.90\n",
       "6  0.02985  0.0 2.18  0    0.458 6.430  58.7 6.0622 3   222 18.7    394.12\n",
       "7  0.08829 12.5 7.87  0    0.524 6.012  66.6 5.5605 5   311 15.2    395.60\n",
       "8  0.14455 12.5 7.87  0    0.524 6.172  96.1 5.9505 5   311 15.2    396.90\n",
       "9  0.21124 12.5 7.87  0    0.524 5.631 100.0 6.0821 5   311 15.2    386.63\n",
       "10 0.17004 12.5 7.87  0    0.524 6.004  85.9 6.5921 5   311 15.2    386.71\n",
       "   lstat medv\n",
       "1   4.98 24.0\n",
       "2   9.14 21.6\n",
       "3   4.03 34.7\n",
       "4   2.94 33.4\n",
       "5   5.33 36.2\n",
       "6   5.21 28.7\n",
       "7  12.43 22.9\n",
       "8  19.15 27.1\n",
       "9  29.93 16.5\n",
       "10 17.10 18.9"
      ]
     },
     "metadata": {},
     "output_type": "display_data"
    }
   ],
   "source": [
    "# Print first 10 records\n",
    "head(Boston, 10)"
   ]
  },
  {
   "cell_type": "markdown",
   "metadata": {},
   "source": [
    "## Create Linear Model"
   ]
  },
  {
   "cell_type": "code",
   "execution_count": 3,
   "metadata": {},
   "outputs": [
    {
     "data": {
      "text/plain": [
       "\n",
       "Call:\n",
       "lm(formula = medv ~ lstat, data = Boston)\n",
       "\n",
       "Coefficients:\n",
       "(Intercept)        lstat  \n",
       "      34.55        -0.95  \n"
      ]
     },
     "metadata": {},
     "output_type": "display_data"
    }
   ],
   "source": [
    "lm_fit = lm(medv~lstat, data=Boston)\n",
    "lm_fit"
   ]
  },
  {
   "cell_type": "markdown",
   "metadata": {},
   "source": [
    "## Summary"
   ]
  },
  {
   "cell_type": "code",
   "execution_count": 4,
   "metadata": {},
   "outputs": [
    {
     "data": {
      "text/plain": [
       "\n",
       "Call:\n",
       "lm(formula = medv ~ lstat, data = Boston)\n",
       "\n",
       "Residuals:\n",
       "    Min      1Q  Median      3Q     Max \n",
       "-15.168  -3.990  -1.318   2.034  24.500 \n",
       "\n",
       "Coefficients:\n",
       "            Estimate Std. Error t value Pr(>|t|)    \n",
       "(Intercept) 34.55384    0.56263   61.41   <2e-16 ***\n",
       "lstat       -0.95005    0.03873  -24.53   <2e-16 ***\n",
       "---\n",
       "Signif. codes:  0 '***' 0.001 '**' 0.01 '*' 0.05 '.' 0.1 ' ' 1\n",
       "\n",
       "Residual standard error: 6.216 on 504 degrees of freedom\n",
       "Multiple R-squared:  0.5441,\tAdjusted R-squared:  0.5432 \n",
       "F-statistic: 601.6 on 1 and 504 DF,  p-value: < 2.2e-16\n"
      ]
     },
     "metadata": {},
     "output_type": "display_data"
    }
   ],
   "source": [
    "summary(lm_fit)"
   ]
  },
  {
   "cell_type": "markdown",
   "metadata": {},
   "source": [
    "## Confidence interval of coefficients"
   ]
  },
  {
   "cell_type": "code",
   "execution_count": 5,
   "metadata": {},
   "outputs": [
    {
     "data": {
      "text/html": [
       "<table>\n",
       "<thead><tr><th></th><th scope=col>2.5 %</th><th scope=col>97.5 %</th></tr></thead>\n",
       "<tbody>\n",
       "\t<tr><th scope=row>(Intercept)</th><td>33.448457 </td><td>35.6592247</td></tr>\n",
       "\t<tr><th scope=row>lstat</th><td>-1.026148 </td><td>-0.8739505</td></tr>\n",
       "</tbody>\n",
       "</table>\n"
      ],
      "text/latex": [
       "\\begin{tabular}{r|ll}\n",
       "  & 2.5 \\% & 97.5 \\%\\\\\n",
       "\\hline\n",
       "\t(Intercept) & 33.448457  & 35.6592247\\\\\n",
       "\tlstat & -1.026148  & -0.8739505\\\\\n",
       "\\end{tabular}\n"
      ],
      "text/markdown": [
       "\n",
       "| <!--/--> | 2.5 % | 97.5 % | \n",
       "|---|---|\n",
       "| (Intercept) | 33.448457  | 35.6592247 | \n",
       "| lstat | -1.026148  | -0.8739505 | \n",
       "\n",
       "\n"
      ],
      "text/plain": [
       "            2.5 %     97.5 %    \n",
       "(Intercept) 33.448457 35.6592247\n",
       "lstat       -1.026148 -0.8739505"
      ]
     },
     "metadata": {},
     "output_type": "display_data"
    }
   ],
   "source": [
    "confint(lm_fit)"
   ]
  },
  {
   "cell_type": "markdown",
   "metadata": {},
   "source": [
    "## 95% Confidence Interval"
   ]
  },
  {
   "cell_type": "code",
   "execution_count": 6,
   "metadata": {
    "scrolled": true
   },
   "outputs": [
    {
     "data": {
      "text/html": [
       "<table>\n",
       "<thead><tr><th></th><th scope=col>fit</th><th scope=col>lwr</th><th scope=col>upr</th></tr></thead>\n",
       "<tbody>\n",
       "\t<tr><th scope=row>1</th><td>29.80359</td><td>29.00741</td><td>30.59978</td></tr>\n",
       "\t<tr><th scope=row>2</th><td>25.05335</td><td>24.47413</td><td>25.63256</td></tr>\n",
       "\t<tr><th scope=row>3</th><td>20.30310</td><td>19.73159</td><td>20.87461</td></tr>\n",
       "</tbody>\n",
       "</table>\n"
      ],
      "text/latex": [
       "\\begin{tabular}{r|lll}\n",
       "  & fit & lwr & upr\\\\\n",
       "\\hline\n",
       "\t1 & 29.80359 & 29.00741 & 30.59978\\\\\n",
       "\t2 & 25.05335 & 24.47413 & 25.63256\\\\\n",
       "\t3 & 20.30310 & 19.73159 & 20.87461\\\\\n",
       "\\end{tabular}\n"
      ],
      "text/markdown": [
       "\n",
       "| <!--/--> | fit | lwr | upr | \n",
       "|---|---|---|\n",
       "| 1 | 29.80359 | 29.00741 | 30.59978 | \n",
       "| 2 | 25.05335 | 24.47413 | 25.63256 | \n",
       "| 3 | 20.30310 | 19.73159 | 20.87461 | \n",
       "\n",
       "\n"
      ],
      "text/plain": [
       "  fit      lwr      upr     \n",
       "1 29.80359 29.00741 30.59978\n",
       "2 25.05335 24.47413 25.63256\n",
       "3 20.30310 19.73159 20.87461"
      ]
     },
     "metadata": {},
     "output_type": "display_data"
    }
   ],
   "source": [
    "predict(lm_fit, data.frame(lstat=c(5,10,15)), interval=\"confidence\")"
   ]
  },
  {
   "cell_type": "markdown",
   "metadata": {},
   "source": [
    "## 95% Prediction Interval"
   ]
  },
  {
   "cell_type": "code",
   "execution_count": 7,
   "metadata": {
    "scrolled": true
   },
   "outputs": [
    {
     "data": {
      "text/html": [
       "<table>\n",
       "<thead><tr><th></th><th scope=col>fit</th><th scope=col>lwr</th><th scope=col>upr</th></tr></thead>\n",
       "<tbody>\n",
       "\t<tr><th scope=row>1</th><td>29.80359 </td><td>17.565675</td><td>42.04151 </td></tr>\n",
       "\t<tr><th scope=row>2</th><td>25.05335 </td><td>12.827626</td><td>37.27907 </td></tr>\n",
       "\t<tr><th scope=row>3</th><td>20.30310 </td><td> 8.077742</td><td>32.52846 </td></tr>\n",
       "</tbody>\n",
       "</table>\n"
      ],
      "text/latex": [
       "\\begin{tabular}{r|lll}\n",
       "  & fit & lwr & upr\\\\\n",
       "\\hline\n",
       "\t1 & 29.80359  & 17.565675 & 42.04151 \\\\\n",
       "\t2 & 25.05335  & 12.827626 & 37.27907 \\\\\n",
       "\t3 & 20.30310  &  8.077742 & 32.52846 \\\\\n",
       "\\end{tabular}\n"
      ],
      "text/markdown": [
       "\n",
       "| <!--/--> | fit | lwr | upr | \n",
       "|---|---|---|\n",
       "| 1 | 29.80359  | 17.565675 | 42.04151  | \n",
       "| 2 | 25.05335  | 12.827626 | 37.27907  | \n",
       "| 3 | 20.30310  |  8.077742 | 32.52846  | \n",
       "\n",
       "\n"
      ],
      "text/plain": [
       "  fit      lwr       upr     \n",
       "1 29.80359 17.565675 42.04151\n",
       "2 25.05335 12.827626 37.27907\n",
       "3 20.30310  8.077742 32.52846"
      ]
     },
     "metadata": {},
     "output_type": "display_data"
    }
   ],
   "source": [
    "predict(lm_fit, data.frame(lstat=c(5,10,15)), interval=\"prediction\")"
   ]
  },
  {
   "cell_type": "markdown",
   "metadata": {},
   "source": [
    "## Plot data & linear model"
   ]
  },
  {
   "cell_type": "code",
   "execution_count": 8,
   "metadata": {},
   "outputs": [
    {
     "data": {
      "image/png": "[encoded data removed]",
      "text/plain": [
       "plot without title"
      ]
     },
     "metadata": {},
     "output_type": "display_data"
    }
   ],
   "source": [
    "with(Boston, plot(lstat, medv))\n",
    "abline(lm_fit, col=\"red\", lwd=3)"
   ]
  }
 ],
 "metadata": {
  "kernelspec": {
   "display_name": "R",
   "language": "R",
   "name": "ir"
  },
  "language_info": {
   "codemirror_mode": "r",
   "file_extension": ".r",
   "mimetype": "text/x-r-source",
   "name": "R",
   "pygments_lexer": "r",
   "version": "3.4.1"
  }
 },
 "nbformat": 4,
 "nbformat_minor": 2
}
