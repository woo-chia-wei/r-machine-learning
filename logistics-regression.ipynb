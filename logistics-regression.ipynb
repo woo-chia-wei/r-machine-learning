{
 "cells": [
  {
   "cell_type": "markdown",
   "metadata": {},
   "source": [
    "## Load package"
   ]
  },
  {
   "cell_type": "code",
   "execution_count": 1,
   "metadata": {
    "collapsed": true
   },
   "outputs": [],
   "source": [
    "library(ISLR)\n",
    "library(plyr) #To use the count() to generate frequency table"
   ]
  },
  {
   "cell_type": "markdown",
   "metadata": {},
   "source": [
    "## Smarket Dataset\n",
    "<span style=\"background-color: #D3D3D3\"><b>Year</b></span> The year that the observation was recorded<br>\n",
    "<span style=\"background-color: #D3D3D3\"><b>Lag1</b></span> Percentage return for previous day<br>\n",
    "<span style=\"background-color: #D3D3D3\"><b>Lag2</b></span> Percentage return for 2 days previous<br>\n",
    "<span style=\"background-color: #D3D3D3\"><b>Lag3</b></span> Percentage return for 3 days previous<br>\n",
    "<span style=\"background-color: #D3D3D3\"><b>Lag4</b></span> Percentage return for 4 days previous<br>\n",
    "<span style=\"background-color: #D3D3D3\"><b>Lag5</b></span> Percentage return for 5 days previous<br>\n",
    "<span style=\"background-color: #D3D3D3\"><b>Volume</b></span> Volume of shares traded (number of daily shares traded in billions)<br>\n",
    "<span style=\"background-color: #D3D3D3\"><b>Today</b></span> Percentage return for today<br>\n",
    "<span style=\"background-color: #D3D3D3\"><b>Direction</b></span> A factor with levels Down and Up indicating whether the market had a positive or negative return on a given day<br>"
   ]
  },
  {
   "cell_type": "code",
   "execution_count": 2,
   "metadata": {},
   "outputs": [
    {
     "data": {
      "text/html": [
       "<table>\n",
       "<thead><tr><th scope=col>Year</th><th scope=col>Lag1</th><th scope=col>Lag2</th><th scope=col>Lag3</th><th scope=col>Lag4</th><th scope=col>Lag5</th><th scope=col>Volume</th><th scope=col>Today</th><th scope=col>Direction</th></tr></thead>\n",
       "<tbody>\n",
       "\t<tr><td>2001  </td><td> 0.381</td><td>-0.192</td><td>-2.624</td><td>-1.055</td><td> 5.010</td><td>1.1913</td><td> 0.959</td><td>Up    </td></tr>\n",
       "\t<tr><td>2001  </td><td> 0.959</td><td> 0.381</td><td>-0.192</td><td>-2.624</td><td>-1.055</td><td>1.2965</td><td> 1.032</td><td>Up    </td></tr>\n",
       "\t<tr><td>2001  </td><td> 1.032</td><td> 0.959</td><td> 0.381</td><td>-0.192</td><td>-2.624</td><td>1.4112</td><td>-0.623</td><td>Down  </td></tr>\n",
       "\t<tr><td>2001  </td><td>-0.623</td><td> 1.032</td><td> 0.959</td><td> 0.381</td><td>-0.192</td><td>1.2760</td><td> 0.614</td><td>Up    </td></tr>\n",
       "\t<tr><td>2001  </td><td> 0.614</td><td>-0.623</td><td> 1.032</td><td> 0.959</td><td> 0.381</td><td>1.2057</td><td> 0.213</td><td>Up    </td></tr>\n",
       "\t<tr><td>2001  </td><td> 0.213</td><td> 0.614</td><td>-0.623</td><td> 1.032</td><td> 0.959</td><td>1.3491</td><td> 1.392</td><td>Up    </td></tr>\n",
       "\t<tr><td>2001  </td><td> 1.392</td><td> 0.213</td><td> 0.614</td><td>-0.623</td><td> 1.032</td><td>1.4450</td><td>-0.403</td><td>Down  </td></tr>\n",
       "\t<tr><td>2001  </td><td>-0.403</td><td> 1.392</td><td> 0.213</td><td> 0.614</td><td>-0.623</td><td>1.4078</td><td> 0.027</td><td>Up    </td></tr>\n",
       "\t<tr><td>2001  </td><td> 0.027</td><td>-0.403</td><td> 1.392</td><td> 0.213</td><td> 0.614</td><td>1.1640</td><td> 1.303</td><td>Up    </td></tr>\n",
       "\t<tr><td>2001  </td><td> 1.303</td><td> 0.027</td><td>-0.403</td><td> 1.392</td><td> 0.213</td><td>1.2326</td><td> 0.287</td><td>Up    </td></tr>\n",
       "</tbody>\n",
       "</table>\n"
      ],
      "text/latex": [
       "\\begin{tabular}{r|lllllllll}\n",
       " Year & Lag1 & Lag2 & Lag3 & Lag4 & Lag5 & Volume & Today & Direction\\\\\n",
       "\\hline\n",
       "\t 2001   &  0.381 & -0.192 & -2.624 & -1.055 &  5.010 & 1.1913 &  0.959 & Up    \\\\\n",
       "\t 2001   &  0.959 &  0.381 & -0.192 & -2.624 & -1.055 & 1.2965 &  1.032 & Up    \\\\\n",
       "\t 2001   &  1.032 &  0.959 &  0.381 & -0.192 & -2.624 & 1.4112 & -0.623 & Down  \\\\\n",
       "\t 2001   & -0.623 &  1.032 &  0.959 &  0.381 & -0.192 & 1.2760 &  0.614 & Up    \\\\\n",
       "\t 2001   &  0.614 & -0.623 &  1.032 &  0.959 &  0.381 & 1.2057 &  0.213 & Up    \\\\\n",
       "\t 2001   &  0.213 &  0.614 & -0.623 &  1.032 &  0.959 & 1.3491 &  1.392 & Up    \\\\\n",
       "\t 2001   &  1.392 &  0.213 &  0.614 & -0.623 &  1.032 & 1.4450 & -0.403 & Down  \\\\\n",
       "\t 2001   & -0.403 &  1.392 &  0.213 &  0.614 & -0.623 & 1.4078 &  0.027 & Up    \\\\\n",
       "\t 2001   &  0.027 & -0.403 &  1.392 &  0.213 &  0.614 & 1.1640 &  1.303 & Up    \\\\\n",
       "\t 2001   &  1.303 &  0.027 & -0.403 &  1.392 &  0.213 & 1.2326 &  0.287 & Up    \\\\\n",
       "\\end{tabular}\n"
      ],
      "text/markdown": [
       "\n",
       "Year | Lag1 | Lag2 | Lag3 | Lag4 | Lag5 | Volume | Today | Direction | \n",
       "|---|---|---|---|---|---|---|---|---|---|\n",
       "| 2001   |  0.381 | -0.192 | -2.624 | -1.055 |  5.010 | 1.1913 |  0.959 | Up     | \n",
       "| 2001   |  0.959 |  0.381 | -0.192 | -2.624 | -1.055 | 1.2965 |  1.032 | Up     | \n",
       "| 2001   |  1.032 |  0.959 |  0.381 | -0.192 | -2.624 | 1.4112 | -0.623 | Down   | \n",
       "| 2001   | -0.623 |  1.032 |  0.959 |  0.381 | -0.192 | 1.2760 |  0.614 | Up     | \n",
       "| 2001   |  0.614 | -0.623 |  1.032 |  0.959 |  0.381 | 1.2057 |  0.213 | Up     | \n",
       "| 2001   |  0.213 |  0.614 | -0.623 |  1.032 |  0.959 | 1.3491 |  1.392 | Up     | \n",
       "| 2001   |  1.392 |  0.213 |  0.614 | -0.623 |  1.032 | 1.4450 | -0.403 | Down   | \n",
       "| 2001   | -0.403 |  1.392 |  0.213 |  0.614 | -0.623 | 1.4078 |  0.027 | Up     | \n",
       "| 2001   |  0.027 | -0.403 |  1.392 |  0.213 |  0.614 | 1.1640 |  1.303 | Up     | \n",
       "| 2001   |  1.303 |  0.027 | -0.403 |  1.392 |  0.213 | 1.2326 |  0.287 | Up     | \n",
       "\n",
       "\n"
      ],
      "text/plain": [
       "   Year Lag1   Lag2   Lag3   Lag4   Lag5   Volume Today  Direction\n",
       "1  2001  0.381 -0.192 -2.624 -1.055  5.010 1.1913  0.959 Up       \n",
       "2  2001  0.959  0.381 -0.192 -2.624 -1.055 1.2965  1.032 Up       \n",
       "3  2001  1.032  0.959  0.381 -0.192 -2.624 1.4112 -0.623 Down     \n",
       "4  2001 -0.623  1.032  0.959  0.381 -0.192 1.2760  0.614 Up       \n",
       "5  2001  0.614 -0.623  1.032  0.959  0.381 1.2057  0.213 Up       \n",
       "6  2001  0.213  0.614 -0.623  1.032  0.959 1.3491  1.392 Up       \n",
       "7  2001  1.392  0.213  0.614 -0.623  1.032 1.4450 -0.403 Down     \n",
       "8  2001 -0.403  1.392  0.213  0.614 -0.623 1.4078  0.027 Up       \n",
       "9  2001  0.027 -0.403  1.392  0.213  0.614 1.1640  1.303 Up       \n",
       "10 2001  1.303  0.027 -0.403  1.392  0.213 1.2326  0.287 Up       "
      ]
     },
     "metadata": {},
     "output_type": "display_data"
    }
   ],
   "source": [
    "# Print first 10 records\n",
    "head(Smarket, 10)"
   ]
  },
  {
   "cell_type": "code",
   "execution_count": 3,
   "metadata": {},
   "outputs": [
    {
     "data": {
      "text/html": [
       "<ol class=list-inline>\n",
       "\t<li>1250</li>\n",
       "\t<li>9</li>\n",
       "</ol>\n"
      ],
      "text/latex": [
       "\\begin{enumerate*}\n",
       "\\item 1250\n",
       "\\item 9\n",
       "\\end{enumerate*}\n"
      ],
      "text/markdown": [
       "1. 1250\n",
       "2. 9\n",
       "\n",
       "\n"
      ],
      "text/plain": [
       "[1] 1250    9"
      ]
     },
     "metadata": {},
     "output_type": "display_data"
    }
   ],
   "source": [
    "# Print dimension\n",
    "dim(Smarket)"
   ]
  },
  {
   "cell_type": "markdown",
   "metadata": {},
   "source": [
    "## Summary Statistics of all columns"
   ]
  },
  {
   "cell_type": "code",
   "execution_count": 4,
   "metadata": {},
   "outputs": [
    {
     "data": {
      "text/plain": [
       "      Year           Lag1                Lag2                Lag3          \n",
       " Min.   :2001   Min.   :-4.922000   Min.   :-4.922000   Min.   :-4.922000  \n",
       " 1st Qu.:2002   1st Qu.:-0.639500   1st Qu.:-0.639500   1st Qu.:-0.640000  \n",
       " Median :2003   Median : 0.039000   Median : 0.039000   Median : 0.038500  \n",
       " Mean   :2003   Mean   : 0.003834   Mean   : 0.003919   Mean   : 0.001716  \n",
       " 3rd Qu.:2004   3rd Qu.: 0.596750   3rd Qu.: 0.596750   3rd Qu.: 0.596750  \n",
       " Max.   :2005   Max.   : 5.733000   Max.   : 5.733000   Max.   : 5.733000  \n",
       "      Lag4                Lag5              Volume           Today          \n",
       " Min.   :-4.922000   Min.   :-4.92200   Min.   :0.3561   Min.   :-4.922000  \n",
       " 1st Qu.:-0.640000   1st Qu.:-0.64000   1st Qu.:1.2574   1st Qu.:-0.639500  \n",
       " Median : 0.038500   Median : 0.03850   Median :1.4229   Median : 0.038500  \n",
       " Mean   : 0.001636   Mean   : 0.00561   Mean   :1.4783   Mean   : 0.003138  \n",
       " 3rd Qu.: 0.596750   3rd Qu.: 0.59700   3rd Qu.:1.6417   3rd Qu.: 0.596750  \n",
       " Max.   : 5.733000   Max.   : 5.73300   Max.   :3.1525   Max.   : 5.733000  \n",
       " Direction \n",
       " Down:602  \n",
       " Up  :648  \n",
       "           \n",
       "           \n",
       "           \n",
       "           "
      ]
     },
     "metadata": {},
     "output_type": "display_data"
    }
   ],
   "source": [
    "summary(Smarket)"
   ]
  },
  {
   "cell_type": "markdown",
   "metadata": {},
   "source": [
    "## Correlation Matrix"
   ]
  },
  {
   "cell_type": "code",
   "execution_count": 5,
   "metadata": {},
   "outputs": [
    {
     "data": {
      "text/html": [
       "<table>\n",
       "<thead><tr><th></th><th scope=col>Year</th><th scope=col>Lag1</th><th scope=col>Lag2</th><th scope=col>Lag3</th><th scope=col>Lag4</th><th scope=col>Lag5</th><th scope=col>Volume</th><th scope=col>Today</th></tr></thead>\n",
       "<tbody>\n",
       "\t<tr><th scope=row>Year</th><td>1.00000000  </td><td> 0.029699649</td><td> 0.030596422</td><td> 0.033194581</td><td> 0.035688718</td><td> 0.029787995</td><td> 0.53900647 </td><td> 0.030095229</td></tr>\n",
       "\t<tr><th scope=row>Lag1</th><td>0.02969965  </td><td> 1.000000000</td><td>-0.026294328</td><td>-0.010803402</td><td>-0.002985911</td><td>-0.005674606</td><td> 0.04090991 </td><td>-0.026155045</td></tr>\n",
       "\t<tr><th scope=row>Lag2</th><td>0.03059642  </td><td>-0.026294328</td><td> 1.000000000</td><td>-0.025896670</td><td>-0.010853533</td><td>-0.003557949</td><td>-0.04338321 </td><td>-0.010250033</td></tr>\n",
       "\t<tr><th scope=row>Lag3</th><td>0.03319458  </td><td>-0.010803402</td><td>-0.025896670</td><td> 1.000000000</td><td>-0.024051036</td><td>-0.018808338</td><td>-0.04182369 </td><td>-0.002447647</td></tr>\n",
       "\t<tr><th scope=row>Lag4</th><td>0.03568872  </td><td>-0.002985911</td><td>-0.010853533</td><td>-0.024051036</td><td> 1.000000000</td><td>-0.027083641</td><td>-0.04841425 </td><td>-0.006899527</td></tr>\n",
       "\t<tr><th scope=row>Lag5</th><td>0.02978799  </td><td>-0.005674606</td><td>-0.003557949</td><td>-0.018808338</td><td>-0.027083641</td><td> 1.000000000</td><td>-0.02200231 </td><td>-0.034860083</td></tr>\n",
       "\t<tr><th scope=row>Volume</th><td>0.53900647  </td><td> 0.040909908</td><td>-0.043383215</td><td>-0.041823686</td><td>-0.048414246</td><td>-0.022002315</td><td> 1.00000000 </td><td> 0.014591823</td></tr>\n",
       "\t<tr><th scope=row>Today</th><td>0.03009523  </td><td>-0.026155045</td><td>-0.010250033</td><td>-0.002447647</td><td>-0.006899527</td><td>-0.034860083</td><td> 0.01459182 </td><td> 1.000000000</td></tr>\n",
       "</tbody>\n",
       "</table>\n"
      ],
      "text/latex": [
       "\\begin{tabular}{r|llllllll}\n",
       "  & Year & Lag1 & Lag2 & Lag3 & Lag4 & Lag5 & Volume & Today\\\\\n",
       "\\hline\n",
       "\tYear & 1.00000000   &  0.029699649 &  0.030596422 &  0.033194581 &  0.035688718 &  0.029787995 &  0.53900647  &  0.030095229\\\\\n",
       "\tLag1 & 0.02969965   &  1.000000000 & -0.026294328 & -0.010803402 & -0.002985911 & -0.005674606 &  0.04090991  & -0.026155045\\\\\n",
       "\tLag2 & 0.03059642   & -0.026294328 &  1.000000000 & -0.025896670 & -0.010853533 & -0.003557949 & -0.04338321  & -0.010250033\\\\\n",
       "\tLag3 & 0.03319458   & -0.010803402 & -0.025896670 &  1.000000000 & -0.024051036 & -0.018808338 & -0.04182369  & -0.002447647\\\\\n",
       "\tLag4 & 0.03568872   & -0.002985911 & -0.010853533 & -0.024051036 &  1.000000000 & -0.027083641 & -0.04841425  & -0.006899527\\\\\n",
       "\tLag5 & 0.02978799   & -0.005674606 & -0.003557949 & -0.018808338 & -0.027083641 &  1.000000000 & -0.02200231  & -0.034860083\\\\\n",
       "\tVolume & 0.53900647   &  0.040909908 & -0.043383215 & -0.041823686 & -0.048414246 & -0.022002315 &  1.00000000  &  0.014591823\\\\\n",
       "\tToday & 0.03009523   & -0.026155045 & -0.010250033 & -0.002447647 & -0.006899527 & -0.034860083 &  0.01459182  &  1.000000000\\\\\n",
       "\\end{tabular}\n"
      ],
      "text/markdown": [
       "\n",
       "| <!--/--> | Year | Lag1 | Lag2 | Lag3 | Lag4 | Lag5 | Volume | Today | \n",
       "|---|---|---|---|---|---|---|---|\n",
       "| Year | 1.00000000   |  0.029699649 |  0.030596422 |  0.033194581 |  0.035688718 |  0.029787995 |  0.53900647  |  0.030095229 | \n",
       "| Lag1 | 0.02969965   |  1.000000000 | -0.026294328 | -0.010803402 | -0.002985911 | -0.005674606 |  0.04090991  | -0.026155045 | \n",
       "| Lag2 | 0.03059642   | -0.026294328 |  1.000000000 | -0.025896670 | -0.010853533 | -0.003557949 | -0.04338321  | -0.010250033 | \n",
       "| Lag3 | 0.03319458   | -0.010803402 | -0.025896670 |  1.000000000 | -0.024051036 | -0.018808338 | -0.04182369  | -0.002447647 | \n",
       "| Lag4 | 0.03568872   | -0.002985911 | -0.010853533 | -0.024051036 |  1.000000000 | -0.027083641 | -0.04841425  | -0.006899527 | \n",
       "| Lag5 | 0.02978799   | -0.005674606 | -0.003557949 | -0.018808338 | -0.027083641 |  1.000000000 | -0.02200231  | -0.034860083 | \n",
       "| Volume | 0.53900647   |  0.040909908 | -0.043383215 | -0.041823686 | -0.048414246 | -0.022002315 |  1.00000000  |  0.014591823 | \n",
       "| Today | 0.03009523   | -0.026155045 | -0.010250033 | -0.002447647 | -0.006899527 | -0.034860083 |  0.01459182  |  1.000000000 | \n",
       "\n",
       "\n"
      ],
      "text/plain": [
       "       Year       Lag1         Lag2         Lag3         Lag4        \n",
       "Year   1.00000000  0.029699649  0.030596422  0.033194581  0.035688718\n",
       "Lag1   0.02969965  1.000000000 -0.026294328 -0.010803402 -0.002985911\n",
       "Lag2   0.03059642 -0.026294328  1.000000000 -0.025896670 -0.010853533\n",
       "Lag3   0.03319458 -0.010803402 -0.025896670  1.000000000 -0.024051036\n",
       "Lag4   0.03568872 -0.002985911 -0.010853533 -0.024051036  1.000000000\n",
       "Lag5   0.02978799 -0.005674606 -0.003557949 -0.018808338 -0.027083641\n",
       "Volume 0.53900647  0.040909908 -0.043383215 -0.041823686 -0.048414246\n",
       "Today  0.03009523 -0.026155045 -0.010250033 -0.002447647 -0.006899527\n",
       "       Lag5         Volume      Today       \n",
       "Year    0.029787995  0.53900647  0.030095229\n",
       "Lag1   -0.005674606  0.04090991 -0.026155045\n",
       "Lag2   -0.003557949 -0.04338321 -0.010250033\n",
       "Lag3   -0.018808338 -0.04182369 -0.002447647\n",
       "Lag4   -0.027083641 -0.04841425 -0.006899527\n",
       "Lag5    1.000000000 -0.02200231 -0.034860083\n",
       "Volume -0.022002315  1.00000000  0.014591823\n",
       "Today  -0.034860083  0.01459182  1.000000000"
      ]
     },
     "metadata": {},
     "output_type": "display_data"
    }
   ],
   "source": [
    "# Correlation calculation cannot have non-numeric columns\n",
    "# Must exclude last column \"Direction\n",
    "cor(Smarket[1:8])"
   ]
  },
  {
   "cell_type": "code",
   "execution_count": 6,
   "metadata": {},
   "outputs": [
    {
     "data": {
      "image/png": "[encoded data removed]",
      "text/plain": [
       "plot without title"
      ]
     },
     "metadata": {},
     "output_type": "display_data"
    }
   ],
   "source": [
    "# It is obvious that correlation between year and volume is good (\t0.53900647)\n",
    "# Plot index (record order) vs Volume will see the obvious positive relationship\n",
    "with(Smarket, plot(Volume))"
   ]
  },
  {
   "cell_type": "markdown",
   "metadata": {},
   "source": [
    "## Create Logistics Regression model"
   ]
  },
  {
   "cell_type": "code",
   "execution_count": 7,
   "metadata": {},
   "outputs": [
    {
     "data": {
      "text/plain": [
       "\n",
       "Call:  glm(formula = Direction ~ Lag1 + Lag2 + Lag3 + Lag4 + Lag5 + \n",
       "    Volume, family = binomial, data = Smarket)\n",
       "\n",
       "Coefficients:\n",
       "(Intercept)         Lag1         Lag2         Lag3         Lag4         Lag5  \n",
       "  -0.126000    -0.073074    -0.042301     0.011085     0.009359     0.010313  \n",
       "     Volume  \n",
       "   0.135441  \n",
       "\n",
       "Degrees of Freedom: 1249 Total (i.e. Null);  1243 Residual\n",
       "Null Deviance:\t    1731 \n",
       "Residual Deviance: 1728 \tAIC: 1742"
      ]
     },
     "metadata": {},
     "output_type": "display_data"
    }
   ],
   "source": [
    "# glm() is generalized linear model function\n",
    "# Set family=bonomial to run logistic regression\n",
    "glm_fit = glm(Direction~Lag1+Lag2+Lag3+Lag4+Lag5+Volume, data=Smarket, family=binomial)\n",
    "glm_fit"
   ]
  },
  {
   "cell_type": "code",
   "execution_count": 8,
   "metadata": {},
   "outputs": [
    {
     "data": {
      "text/plain": [
       "\n",
       "Call:\n",
       "glm(formula = Direction ~ Lag1 + Lag2 + Lag3 + Lag4 + Lag5 + \n",
       "    Volume, family = binomial, data = Smarket)\n",
       "\n",
       "Deviance Residuals: \n",
       "   Min      1Q  Median      3Q     Max  \n",
       "-1.446  -1.203   1.065   1.145   1.326  \n",
       "\n",
       "Coefficients:\n",
       "             Estimate Std. Error z value Pr(>|z|)\n",
       "(Intercept) -0.126000   0.240736  -0.523    0.601\n",
       "Lag1        -0.073074   0.050167  -1.457    0.145\n",
       "Lag2        -0.042301   0.050086  -0.845    0.398\n",
       "Lag3         0.011085   0.049939   0.222    0.824\n",
       "Lag4         0.009359   0.049974   0.187    0.851\n",
       "Lag5         0.010313   0.049511   0.208    0.835\n",
       "Volume       0.135441   0.158360   0.855    0.392\n",
       "\n",
       "(Dispersion parameter for binomial family taken to be 1)\n",
       "\n",
       "    Null deviance: 1731.2  on 1249  degrees of freedom\n",
       "Residual deviance: 1727.6  on 1243  degrees of freedom\n",
       "AIC: 1741.6\n",
       "\n",
       "Number of Fisher Scoring iterations: 3\n"
      ]
     },
     "metadata": {},
     "output_type": "display_data"
    }
   ],
   "source": [
    "# Summary\n",
    "summary(glm_fit)"
   ]
  },
  {
   "cell_type": "code",
   "execution_count": 9,
   "metadata": {},
   "outputs": [
    {
     "data": {
      "text/html": [
       "<dl class=dl-horizontal>\n",
       "\t<dt>(Intercept)</dt>\n",
       "\t\t<dd>-0.126000256559269</dd>\n",
       "\t<dt>Lag1</dt>\n",
       "\t\t<dd>-0.0730737458900263</dd>\n",
       "\t<dt>Lag2</dt>\n",
       "\t\t<dd>-0.0423013440073083</dd>\n",
       "\t<dt>Lag3</dt>\n",
       "\t\t<dd>0.0110851083796762</dd>\n",
       "\t<dt>Lag4</dt>\n",
       "\t\t<dd>0.0093589383702787</dd>\n",
       "\t<dt>Lag5</dt>\n",
       "\t\t<dd>0.0103130684758178</dd>\n",
       "\t<dt>Volume</dt>\n",
       "\t\t<dd>0.135440658859162</dd>\n",
       "</dl>\n"
      ],
      "text/latex": [
       "\\begin{description*}\n",
       "\\item[(Intercept)] -0.126000256559269\n",
       "\\item[Lag1] -0.0730737458900263\n",
       "\\item[Lag2] -0.0423013440073083\n",
       "\\item[Lag3] 0.0110851083796762\n",
       "\\item[Lag4] 0.0093589383702787\n",
       "\\item[Lag5] 0.0103130684758178\n",
       "\\item[Volume] 0.135440658859162\n",
       "\\end{description*}\n"
      ],
      "text/markdown": [
       "(Intercept)\n",
       ":   -0.126000256559269Lag1\n",
       ":   -0.0730737458900263Lag2\n",
       ":   -0.0423013440073083Lag3\n",
       ":   0.0110851083796762Lag4\n",
       ":   0.0093589383702787Lag5\n",
       ":   0.0103130684758178Volume\n",
       ":   0.135440658859162\n",
       "\n"
      ],
      "text/plain": [
       " (Intercept)         Lag1         Lag2         Lag3         Lag4         Lag5 \n",
       "-0.126000257 -0.073073746 -0.042301344  0.011085108  0.009358938  0.010313068 \n",
       "      Volume \n",
       " 0.135440659 "
      ]
     },
     "metadata": {},
     "output_type": "display_data"
    }
   ],
   "source": [
    "# coefficient\n",
    "coef(glm_fit)"
   ]
  },
  {
   "cell_type": "markdown",
   "metadata": {},
   "source": [
    "## Create Prediction model"
   ]
  },
  {
   "cell_type": "code",
   "execution_count": 10,
   "metadata": {
    "scrolled": false
   },
   "outputs": [
    {
     "data": {
      "text/html": [
       "<dl class=dl-horizontal>\n",
       "\t<dt>1</dt>\n",
       "\t\t<dd>0.507084133395401</dd>\n",
       "\t<dt>2</dt>\n",
       "\t\t<dd>0.481467878454591</dd>\n",
       "\t<dt>3</dt>\n",
       "\t\t<dd>0.481138835214201</dd>\n",
       "\t<dt>4</dt>\n",
       "\t\t<dd>0.515222355813022</dd>\n",
       "\t<dt>5</dt>\n",
       "\t\t<dd>0.510781162691538</dd>\n",
       "\t<dt>6</dt>\n",
       "\t\t<dd>0.506956460534911</dd>\n",
       "\t<dt>7</dt>\n",
       "\t\t<dd>0.492650874187038</dd>\n",
       "\t<dt>8</dt>\n",
       "\t\t<dd>0.509229158207377</dd>\n",
       "\t<dt>9</dt>\n",
       "\t\t<dd>0.517613526170958</dd>\n",
       "\t<dt>10</dt>\n",
       "\t\t<dd>0.488837779771376</dd>\n",
       "</dl>\n"
      ],
      "text/latex": [
       "\\begin{description*}\n",
       "\\item[1] 0.507084133395401\n",
       "\\item[2] 0.481467878454591\n",
       "\\item[3] 0.481138835214201\n",
       "\\item[4] 0.515222355813022\n",
       "\\item[5] 0.510781162691538\n",
       "\\item[6] 0.506956460534911\n",
       "\\item[7] 0.492650874187038\n",
       "\\item[8] 0.509229158207377\n",
       "\\item[9] 0.517613526170958\n",
       "\\item[10] 0.488837779771376\n",
       "\\end{description*}\n"
      ],
      "text/markdown": [
       "1\n",
       ":   0.5070841333954012\n",
       ":   0.4814678784545913\n",
       ":   0.4811388352142014\n",
       ":   0.5152223558130225\n",
       ":   0.5107811626915386\n",
       ":   0.5069564605349117\n",
       ":   0.4926508741870388\n",
       ":   0.5092291582073779\n",
       ":   0.51761352617095810\n",
       ":   0.488837779771376\n",
       "\n"
      ],
      "text/plain": [
       "        1         2         3         4         5         6         7         8 \n",
       "0.5070841 0.4814679 0.4811388 0.5152224 0.5107812 0.5069565 0.4926509 0.5092292 \n",
       "        9        10 \n",
       "0.5176135 0.4888378 "
      ]
     },
     "metadata": {},
     "output_type": "display_data"
    }
   ],
   "source": [
    "# Set type=\"response\" for predicted probabilities\n",
    "glm_probs = predict(glm_fit, type=\"response\")\n",
    "glm_probs[1:10]"
   ]
  },
  {
   "cell_type": "markdown",
   "metadata": {},
   "source": [
    "## Convert probabilities into Up & Down"
   ]
  },
  {
   "cell_type": "code",
   "execution_count": 11,
   "metadata": {},
   "outputs": [
    {
     "data": {
      "text/html": [
       "<table>\n",
       "<thead><tr><th scope=col>x</th><th scope=col>freq</th></tr></thead>\n",
       "<tbody>\n",
       "\t<tr><td>Down</td><td>286 </td></tr>\n",
       "\t<tr><td>Up  </td><td>964 </td></tr>\n",
       "</tbody>\n",
       "</table>\n"
      ],
      "text/latex": [
       "\\begin{tabular}{r|ll}\n",
       " x & freq\\\\\n",
       "\\hline\n",
       "\t Down & 286 \\\\\n",
       "\t Up   & 964 \\\\\n",
       "\\end{tabular}\n"
      ],
      "text/markdown": [
       "\n",
       "x | freq | \n",
       "|---|---|\n",
       "| Down | 286  | \n",
       "| Up   | 964  | \n",
       "\n",
       "\n"
      ],
      "text/plain": [
       "  x    freq\n",
       "1 Down 286 \n",
       "2 Up   964 "
      ]
     },
     "metadata": {},
     "output_type": "display_data"
    }
   ],
   "source": [
    "# Set to down if probablity <= 0.5\n",
    "# Set to up if probablity > 0.5\n",
    "glm_pred = rep(\"Down\", 1250)\n",
    "glm_pred[glm_probs > 0.5] = \"Up\"\n",
    "count(glm_pred)"
   ]
  },
  {
   "cell_type": "markdown",
   "metadata": {},
   "source": [
    "## Confusion matrix"
   ]
  },
  {
   "cell_type": "code",
   "execution_count": 12,
   "metadata": {},
   "outputs": [
    {
     "data": {
      "text/plain": [
       "        \n",
       "glm_pred Down  Up\n",
       "    Down  145 141\n",
       "    Up    457 507"
      ]
     },
     "metadata": {},
     "output_type": "display_data"
    }
   ],
   "source": [
    "table(glm_pred, Smarket$Direction)"
   ]
  },
  {
   "cell_type": "markdown",
   "metadata": {},
   "source": [
    "## Correct Prediction"
   ]
  },
  {
   "cell_type": "code",
   "execution_count": 13,
   "metadata": {},
   "outputs": [
    {
     "data": {
      "text/html": [
       "0.5216"
      ],
      "text/latex": [
       "0.5216"
      ],
      "text/markdown": [
       "0.5216"
      ],
      "text/plain": [
       "[1] 0.5216"
      ]
     },
     "metadata": {},
     "output_type": "display_data"
    }
   ],
   "source": [
    "mean(glm_pred == Smarket$Direction)"
   ]
  },
  {
   "cell_type": "markdown",
   "metadata": {},
   "source": [
    "## Wrong Prediction (Also called training error rate)"
   ]
  },
  {
   "cell_type": "code",
   "execution_count": 14,
   "metadata": {},
   "outputs": [
    {
     "data": {
      "text/html": [
       "0.4784"
      ],
      "text/latex": [
       "0.4784"
      ],
      "text/markdown": [
       "0.4784"
      ],
      "text/plain": [
       "[1] 0.4784"
      ]
     },
     "metadata": {},
     "output_type": "display_data"
    }
   ],
   "source": [
    "mean(glm_pred != Smarket$Direction)"
   ]
  },
  {
   "cell_type": "markdown",
   "metadata": {},
   "source": [
    "## Create more realistics scenario, split data into training and test sets"
   ]
  },
  {
   "cell_type": "code",
   "execution_count": 15,
   "metadata": {},
   "outputs": [
    {
     "data": {
      "text/html": [
       "<table>\n",
       "<thead><tr><th scope=col>x</th><th scope=col>freq</th></tr></thead>\n",
       "<tbody>\n",
       "\t<tr><td>2001</td><td>242 </td></tr>\n",
       "\t<tr><td>2002</td><td>252 </td></tr>\n",
       "\t<tr><td>2003</td><td>252 </td></tr>\n",
       "\t<tr><td>2004</td><td>252 </td></tr>\n",
       "\t<tr><td>2005</td><td>252 </td></tr>\n",
       "</tbody>\n",
       "</table>\n"
      ],
      "text/latex": [
       "\\begin{tabular}{r|ll}\n",
       " x & freq\\\\\n",
       "\\hline\n",
       "\t 2001 & 242 \\\\\n",
       "\t 2002 & 252 \\\\\n",
       "\t 2003 & 252 \\\\\n",
       "\t 2004 & 252 \\\\\n",
       "\t 2005 & 252 \\\\\n",
       "\\end{tabular}\n"
      ],
      "text/markdown": [
       "\n",
       "x | freq | \n",
       "|---|---|---|---|---|\n",
       "| 2001 | 242  | \n",
       "| 2002 | 252  | \n",
       "| 2003 | 252  | \n",
       "| 2004 | 252  | \n",
       "| 2005 | 252  | \n",
       "\n",
       "\n"
      ],
      "text/plain": [
       "  x    freq\n",
       "1 2001 242 \n",
       "2 2002 252 \n",
       "3 2003 252 \n",
       "4 2004 252 \n",
       "5 2005 252 "
      ]
     },
     "metadata": {},
     "output_type": "display_data"
    }
   ],
   "source": [
    "# Original dataset\n",
    "count(Smarket$Year)"
   ]
  },
  {
   "cell_type": "code",
   "execution_count": 16,
   "metadata": {},
   "outputs": [
    {
     "data": {
      "text/html": [
       "<table>\n",
       "<thead><tr><th scope=col>x</th><th scope=col>freq</th></tr></thead>\n",
       "<tbody>\n",
       "\t<tr><td>FALSE</td><td>252  </td></tr>\n",
       "\t<tr><td> TRUE</td><td>998  </td></tr>\n",
       "</tbody>\n",
       "</table>\n"
      ],
      "text/latex": [
       "\\begin{tabular}{r|ll}\n",
       " x & freq\\\\\n",
       "\\hline\n",
       "\t FALSE & 252  \\\\\n",
       "\t  TRUE & 998  \\\\\n",
       "\\end{tabular}\n"
      ],
      "text/markdown": [
       "\n",
       "x | freq | \n",
       "|---|---|\n",
       "| FALSE | 252   | \n",
       "|  TRUE | 998   | \n",
       "\n",
       "\n"
      ],
      "text/plain": [
       "  x     freq\n",
       "1 FALSE 252 \n",
       "2  TRUE 998 "
      ]
     },
     "metadata": {},
     "output_type": "display_data"
    },
    {
     "data": {
      "text/html": [
       "<table>\n",
       "<thead><tr><th></th><th scope=col>Year</th><th scope=col>Lag1</th><th scope=col>Lag2</th><th scope=col>Lag3</th><th scope=col>Lag4</th><th scope=col>Lag5</th><th scope=col>Volume</th><th scope=col>Today</th><th scope=col>Direction</th></tr></thead>\n",
       "<tbody>\n",
       "\t<tr><th scope=row>999</th><td>2005  </td><td>-0.134</td><td> 0.008</td><td>-0.007</td><td> 0.715</td><td>-0.431</td><td>0.7869</td><td>-0.812</td><td>Down  </td></tr>\n",
       "\t<tr><th scope=row>1000</th><td>2005  </td><td>-0.812</td><td>-0.134</td><td> 0.008</td><td>-0.007</td><td> 0.715</td><td>1.5108</td><td>-1.167</td><td>Down  </td></tr>\n",
       "\t<tr><th scope=row>1001</th><td>2005  </td><td>-1.167</td><td>-0.812</td><td>-0.134</td><td> 0.008</td><td>-0.007</td><td>1.7210</td><td>-0.363</td><td>Down  </td></tr>\n",
       "\t<tr><th scope=row>1002</th><td>2005  </td><td>-0.363</td><td>-1.167</td><td>-0.812</td><td>-0.134</td><td> 0.008</td><td>1.7389</td><td> 0.351</td><td>Up    </td></tr>\n",
       "\t<tr><th scope=row>1003</th><td>2005  </td><td> 0.351</td><td>-0.363</td><td>-1.167</td><td>-0.812</td><td>-0.134</td><td>1.5691</td><td>-0.143</td><td>Down  </td></tr>\n",
       "\t<tr><th scope=row>1004</th><td>2005  </td><td>-0.143</td><td> 0.351</td><td>-0.363</td><td>-1.167</td><td>-0.812</td><td>1.4779</td><td> 0.342</td><td>Up    </td></tr>\n",
       "\t<tr><th scope=row>1005</th><td>2005  </td><td> 0.342</td><td>-0.143</td><td> 0.351</td><td>-0.363</td><td>-1.167</td><td>1.4904</td><td>-0.610</td><td>Down  </td></tr>\n",
       "\t<tr><th scope=row>1006</th><td>2005  </td><td>-0.610</td><td> 0.342</td><td>-0.143</td><td> 0.351</td><td>-0.363</td><td>1.4888</td><td> 0.398</td><td>Up    </td></tr>\n",
       "\t<tr><th scope=row>1007</th><td>2005  </td><td> 0.398</td><td>-0.610</td><td> 0.342</td><td>-0.143</td><td> 0.351</td><td>1.5621</td><td>-0.863</td><td>Down  </td></tr>\n",
       "\t<tr><th scope=row>1008</th><td>2005  </td><td>-0.863</td><td> 0.398</td><td>-0.610</td><td> 0.342</td><td>-0.143</td><td>1.5103</td><td> 0.600</td><td>Up    </td></tr>\n",
       "</tbody>\n",
       "</table>\n"
      ],
      "text/latex": [
       "\\begin{tabular}{r|lllllllll}\n",
       "  & Year & Lag1 & Lag2 & Lag3 & Lag4 & Lag5 & Volume & Today & Direction\\\\\n",
       "\\hline\n",
       "\t999 & 2005   & -0.134 &  0.008 & -0.007 &  0.715 & -0.431 & 0.7869 & -0.812 & Down  \\\\\n",
       "\t1000 & 2005   & -0.812 & -0.134 &  0.008 & -0.007 &  0.715 & 1.5108 & -1.167 & Down  \\\\\n",
       "\t1001 & 2005   & -1.167 & -0.812 & -0.134 &  0.008 & -0.007 & 1.7210 & -0.363 & Down  \\\\\n",
       "\t1002 & 2005   & -0.363 & -1.167 & -0.812 & -0.134 &  0.008 & 1.7389 &  0.351 & Up    \\\\\n",
       "\t1003 & 2005   &  0.351 & -0.363 & -1.167 & -0.812 & -0.134 & 1.5691 & -0.143 & Down  \\\\\n",
       "\t1004 & 2005   & -0.143 &  0.351 & -0.363 & -1.167 & -0.812 & 1.4779 &  0.342 & Up    \\\\\n",
       "\t1005 & 2005   &  0.342 & -0.143 &  0.351 & -0.363 & -1.167 & 1.4904 & -0.610 & Down  \\\\\n",
       "\t1006 & 2005   & -0.610 &  0.342 & -0.143 &  0.351 & -0.363 & 1.4888 &  0.398 & Up    \\\\\n",
       "\t1007 & 2005   &  0.398 & -0.610 &  0.342 & -0.143 &  0.351 & 1.5621 & -0.863 & Down  \\\\\n",
       "\t1008 & 2005   & -0.863 &  0.398 & -0.610 &  0.342 & -0.143 & 1.5103 &  0.600 & Up    \\\\\n",
       "\\end{tabular}\n"
      ],
      "text/markdown": [
       "\n",
       "| <!--/--> | Year | Lag1 | Lag2 | Lag3 | Lag4 | Lag5 | Volume | Today | Direction | \n",
       "|---|---|---|---|---|---|---|---|---|---|\n",
       "| 999 | 2005   | -0.134 |  0.008 | -0.007 |  0.715 | -0.431 | 0.7869 | -0.812 | Down   | \n",
       "| 1000 | 2005   | -0.812 | -0.134 |  0.008 | -0.007 |  0.715 | 1.5108 | -1.167 | Down   | \n",
       "| 1001 | 2005   | -1.167 | -0.812 | -0.134 |  0.008 | -0.007 | 1.7210 | -0.363 | Down   | \n",
       "| 1002 | 2005   | -0.363 | -1.167 | -0.812 | -0.134 |  0.008 | 1.7389 |  0.351 | Up     | \n",
       "| 1003 | 2005   |  0.351 | -0.363 | -1.167 | -0.812 | -0.134 | 1.5691 | -0.143 | Down   | \n",
       "| 1004 | 2005   | -0.143 |  0.351 | -0.363 | -1.167 | -0.812 | 1.4779 |  0.342 | Up     | \n",
       "| 1005 | 2005   |  0.342 | -0.143 |  0.351 | -0.363 | -1.167 | 1.4904 | -0.610 | Down   | \n",
       "| 1006 | 2005   | -0.610 |  0.342 | -0.143 |  0.351 | -0.363 | 1.4888 |  0.398 | Up     | \n",
       "| 1007 | 2005   |  0.398 | -0.610 |  0.342 | -0.143 |  0.351 | 1.5621 | -0.863 | Down   | \n",
       "| 1008 | 2005   | -0.863 |  0.398 | -0.610 |  0.342 | -0.143 | 1.5103 |  0.600 | Up     | \n",
       "\n",
       "\n"
      ],
      "text/plain": [
       "     Year Lag1   Lag2   Lag3   Lag4   Lag5   Volume Today  Direction\n",
       "999  2005 -0.134  0.008 -0.007  0.715 -0.431 0.7869 -0.812 Down     \n",
       "1000 2005 -0.812 -0.134  0.008 -0.007  0.715 1.5108 -1.167 Down     \n",
       "1001 2005 -1.167 -0.812 -0.134  0.008 -0.007 1.7210 -0.363 Down     \n",
       "1002 2005 -0.363 -1.167 -0.812 -0.134  0.008 1.7389  0.351 Up       \n",
       "1003 2005  0.351 -0.363 -1.167 -0.812 -0.134 1.5691 -0.143 Down     \n",
       "1004 2005 -0.143  0.351 -0.363 -1.167 -0.812 1.4779  0.342 Up       \n",
       "1005 2005  0.342 -0.143  0.351 -0.363 -1.167 1.4904 -0.610 Down     \n",
       "1006 2005 -0.610  0.342 -0.143  0.351 -0.363 1.4888  0.398 Up       \n",
       "1007 2005  0.398 -0.610  0.342 -0.143  0.351 1.5621 -0.863 Down     \n",
       "1008 2005 -0.863  0.398 -0.610  0.342 -0.143 1.5103  0.600 Up       "
      ]
     },
     "metadata": {},
     "output_type": "display_data"
    },
    {
     "data": {
      "text/html": [
       "<ol class=list-inline>\n",
       "\t<li>252</li>\n",
       "\t<li>9</li>\n",
       "</ol>\n"
      ],
      "text/latex": [
       "\\begin{enumerate*}\n",
       "\\item 252\n",
       "\\item 9\n",
       "\\end{enumerate*}\n"
      ],
      "text/markdown": [
       "1. 252\n",
       "2. 9\n",
       "\n",
       "\n"
      ],
      "text/plain": [
       "[1] 252   9"
      ]
     },
     "metadata": {},
     "output_type": "display_data"
    }
   ],
   "source": [
    "# 2015 data for training\n",
    "train = Smarket$Year < 2005\n",
    "count(train)\n",
    "Smarket_2015 = Smarket[!train,]\n",
    "head(Smarket_2015, 10)\n",
    "dim(Smarket_2015)"
   ]
  },
  {
   "cell_type": "markdown",
   "metadata": {},
   "source": [
    "## Create Logistics Regression model with data before 2005"
   ]
  },
  {
   "cell_type": "code",
   "execution_count": 17,
   "metadata": {},
   "outputs": [
    {
     "data": {
      "text/plain": [
       "\n",
       "Call:  glm(formula = Direction ~ Lag1 + Lag2 + Lag3 + Lag4 + Lag5 + \n",
       "    Volume, family = binomial, data = Smarket, subset = train)\n",
       "\n",
       "Coefficients:\n",
       "(Intercept)         Lag1         Lag2         Lag3         Lag4         Lag5  \n",
       "   0.191213    -0.054178    -0.045805     0.007200     0.006441    -0.004223  \n",
       "     Volume  \n",
       "  -0.116257  \n",
       "\n",
       "Degrees of Freedom: 997 Total (i.e. Null);  991 Residual\n",
       "Null Deviance:\t    1383 \n",
       "Residual Deviance: 1381 \tAIC: 1395"
      ]
     },
     "metadata": {},
     "output_type": "display_data"
    }
   ],
   "source": [
    "# glm() is generalized linear model function\n",
    "# Set family=bonomial to run logistic regression\n",
    "glm_fit = glm(Direction~Lag1+Lag2+Lag3+Lag4+Lag5+Volume, data=Smarket, family=binomial, subset=train)\n",
    "glm_fit"
   ]
  },
  {
   "cell_type": "markdown",
   "metadata": {},
   "source": [
    "## Create Prediction model, target = 2015 data"
   ]
  },
  {
   "cell_type": "code",
   "execution_count": 18,
   "metadata": {
    "scrolled": true
   },
   "outputs": [
    {
     "data": {
      "text/html": [
       "<dl class=dl-horizontal>\n",
       "\t<dt>999</dt>\n",
       "\t\t<dd>0.528219545390631</dd>\n",
       "\t<dt>1000</dt>\n",
       "\t\t<dd>0.515668767205589</dd>\n",
       "\t<dt>1001</dt>\n",
       "\t\t<dd>0.522652148221834</dd>\n",
       "\t<dt>1002</dt>\n",
       "\t\t<dd>0.513854348521228</dd>\n",
       "\t<dt>1003</dt>\n",
       "\t\t<dd>0.498334478776623</dd>\n",
       "\t<dt>1004</dt>\n",
       "\t\t<dd>0.501091235434872</dd>\n",
       "\t<dt>1005</dt>\n",
       "\t\t<dd>0.502770345833409</dd>\n",
       "\t<dt>1006</dt>\n",
       "\t\t<dd>0.509567970049062</dd>\n",
       "\t<dt>1007</dt>\n",
       "\t\t<dd>0.504011202565872</dd>\n",
       "\t<dt>1008</dt>\n",
       "\t\t<dd>0.510640799721435</dd>\n",
       "</dl>\n"
      ],
      "text/latex": [
       "\\begin{description*}\n",
       "\\item[999] 0.528219545390631\n",
       "\\item[1000] 0.515668767205589\n",
       "\\item[1001] 0.522652148221834\n",
       "\\item[1002] 0.513854348521228\n",
       "\\item[1003] 0.498334478776623\n",
       "\\item[1004] 0.501091235434872\n",
       "\\item[1005] 0.502770345833409\n",
       "\\item[1006] 0.509567970049062\n",
       "\\item[1007] 0.504011202565872\n",
       "\\item[1008] 0.510640799721435\n",
       "\\end{description*}\n"
      ],
      "text/markdown": [
       "999\n",
       ":   0.5282195453906311000\n",
       ":   0.5156687672055891001\n",
       ":   0.5226521482218341002\n",
       ":   0.5138543485212281003\n",
       ":   0.4983344787766231004\n",
       ":   0.5010912354348721005\n",
       ":   0.5027703458334091006\n",
       ":   0.5095679700490621007\n",
       ":   0.5040112025658721008\n",
       ":   0.510640799721435\n",
       "\n"
      ],
      "text/plain": [
       "      999      1000      1001      1002      1003      1004      1005      1006 \n",
       "0.5282195 0.5156688 0.5226521 0.5138543 0.4983345 0.5010912 0.5027703 0.5095680 \n",
       "     1007      1008 \n",
       "0.5040112 0.5106408 "
      ]
     },
     "metadata": {},
     "output_type": "display_data"
    }
   ],
   "source": [
    "glm_probs = predict(glm_fit, Smarket_2015, type=\"response\")\n",
    "head(glm_probs, 10)"
   ]
  },
  {
   "cell_type": "markdown",
   "metadata": {},
   "source": [
    "## Compute Confusion matrix and correct/wrong rate"
   ]
  },
  {
   "cell_type": "code",
   "execution_count": 19,
   "metadata": {},
   "outputs": [
    {
     "data": {
      "text/plain": [
       "        \n",
       "glm_pred Down Up\n",
       "    Down   77 97\n",
       "    Up     34 44"
      ]
     },
     "metadata": {},
     "output_type": "display_data"
    },
    {
     "data": {
      "text/html": [
       "0.48015873015873"
      ],
      "text/latex": [
       "0.48015873015873"
      ],
      "text/markdown": [
       "0.48015873015873"
      ],
      "text/plain": [
       "[1] 0.4801587"
      ]
     },
     "metadata": {},
     "output_type": "display_data"
    },
    {
     "data": {
      "text/html": [
       "0.51984126984127"
      ],
      "text/latex": [
       "0.51984126984127"
      ],
      "text/markdown": [
       "0.51984126984127"
      ],
      "text/plain": [
       "[1] 0.5198413"
      ]
     },
     "metadata": {},
     "output_type": "display_data"
    }
   ],
   "source": [
    "glm_pred = rep(\"Down\", 252)\n",
    "glm_pred[glm_probs > 0.5] = \"Up\"\n",
    "table(glm_pred, Smarket_2015$Direction)\n",
    "mean(glm_pred == Smarket_2015$Direction)\n",
    "mean(glm_pred != Smarket_2015$Direction)\n",
    "\n",
    "# The success rate is bad, just 48%, we should eliminate variables that is not helpful in prediction.\n",
    "# Feature selection will be added in the future in this notebook, or in another notebook file."
   ]
  }
 ],
 "metadata": {
  "kernelspec": {
   "display_name": "R",
   "language": "R",
   "name": "ir"
  },
  "language_info": {
   "codemirror_mode": "r",
   "file_extension": ".r",
   "mimetype": "text/x-r-source",
   "name": "R",
   "pygments_lexer": "r",
   "version": "3.4.1"
  }
 },
 "nbformat": 4,
 "nbformat_minor": 2
}
